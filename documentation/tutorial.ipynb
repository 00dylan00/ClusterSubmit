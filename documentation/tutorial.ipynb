{
 "cells": [
  {
   "cell_type": "markdown",
   "metadata": {},
   "source": [
    "# Tutorial Notebook"
   ]
  },
  {
   "cell_type": "markdown",
   "metadata": {},
   "source": [
    "## Single Job Example"
   ]
  },
  {
   "cell_type": "code",
   "execution_count": 1,
   "metadata": {},
   "outputs": [
    {
     "name": "stderr",
     "output_type": "stream",
     "text": [
      "2024-11-25 15:56:19,294 :: INFO :: 'You are your own fairy tale. 📖🌟' - Shreck\n",
      "2024-11-25 15:56:19,435 :: INFO :: Connected (version 2.0, client OpenSSH_8.0)\n",
      "2024-11-25 15:56:21,279 :: INFO :: Authentication (publickey) successful!\n"
     ]
    }
   ],
   "source": [
    "# imports\n",
    "import sys, os, json\n",
    "\n",
    "sys.path.insert(0, \"/aloy/home/ddalton/projects/ClusterSubmit\")\n",
    "from cluster_submitter import *\n",
    "\n",
    "# variables\n",
    "slurm_config = {\n",
    "    \"host\": \"irblogin01.irbbarcelona.pcb.ub.es\",\n",
    "    \"username\": \"ddalton\",\n",
    "    \"password\": \"\",\n",
    "}\n",
    "\n",
    "# initialize slurm job manager\n",
    "slurm_jb = Slurm(**slurm_config)"
   ]
  },
  {
   "cell_type": "code",
   "execution_count": null,
   "metadata": {},
   "outputs": [],
   "source": [
    "# submit job\n",
    "slurm_jb.submit_job(\n",
    "    script_py=\"../scripts/test.py\",  # path to the python script\n",
    "    time=\"0-10:00:00\",  # time in days-hours:minutes:seconds\n",
    "    mem=1,  # memory in GB\n",
    "    cpus=1,  # number of cpus\n",
    "    N=\"test\",  # job name\n",
    "    # gpus=1,\n",
    "    sh_path=\"../scripts\",  # path to save the slurm script\n",
    "    eo_path=\"logs/\",  # path to save the error output\n",
    "    image=\"/aloy/home/ddalton/singularity_images/scgpt.sif\",  # path to the singularity image\n",
    "    os_remove=True,  # remove the slurm script after submission\n",
    "    partition=\"sbnb_cpu_sphr\",  # partition\n",
    ")"
   ]
  },
  {
   "cell_type": "code",
   "execution_count": null,
   "metadata": {},
   "outputs": [],
   "source": [
    "# get job status\n",
    "slurm_jb.get_status()"
   ]
  },
  {
   "cell_type": "code",
   "execution_count": null,
   "metadata": {},
   "outputs": [],
   "source": [
    "# print logs\n",
    "slurm_jb.logs()"
   ]
  },
  {
   "cell_type": "code",
   "execution_count": null,
   "metadata": {},
   "outputs": [],
   "source": [
    "# cancel job just sent\n",
    "slurm_jb.cancel()"
   ]
  },
  {
   "cell_type": "code",
   "execution_count": null,
   "metadata": {},
   "outputs": [],
   "source": [
    "# cancel all job of user\n",
    "slurm_jb.cancel_all()"
   ]
  },
  {
   "cell_type": "code",
   "execution_count": null,
   "metadata": {},
   "outputs": [],
   "source": [
    "# get info on nodes\n",
    "slurm_jb.get_nodes()"
   ]
  },
  {
   "cell_type": "markdown",
   "metadata": {},
   "source": [
    "## Array Job Example"
   ]
  },
  {
   "cell_type": "code",
   "execution_count": null,
   "metadata": {},
   "outputs": [],
   "source": []
  }
 ],
 "metadata": {
  "kernelspec": {
   "display_name": "xgboost-env",
   "language": "python",
   "name": "python3"
  },
  "language_info": {
   "codemirror_mode": {
    "name": "ipython",
    "version": 3
   },
   "file_extension": ".py",
   "mimetype": "text/x-python",
   "name": "python",
   "nbconvert_exporter": "python",
   "pygments_lexer": "ipython3",
   "version": "3.12.3"
  }
 },
 "nbformat": 4,
 "nbformat_minor": 2
}
