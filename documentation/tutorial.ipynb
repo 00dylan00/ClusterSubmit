{
 "cells": [
  {
   "cell_type": "markdown",
   "metadata": {},
   "source": [
    "# Tutorial Notebook"
   ]
  },
  {
   "cell_type": "markdown",
   "metadata": {
    "vscode": {
     "languageId": "plaintext"
    }
   },
   "source": [
    "## SLURM Jobs"
   ]
  },
  {
   "cell_type": "code",
   "execution_count": 1,
   "metadata": {},
   "outputs": [],
   "source": [
    "\"\"\"load personal config\n",
    "this can be done here directly - or setting up the config file!\n",
    "\n",
    "slurm_config = {\n",
    "    \"host\": \"your_slurm_host\",\n",
    "    \"username\": \"your_username\",\n",
    "    \"password\": \"your_password\"\n",
    "}\n",
    "\"\"\"\n",
    "\n",
    "import personal_config\n",
    "import sys, os"
   ]
  },
  {
   "cell_type": "code",
   "execution_count": 1,
   "metadata": {},
   "outputs": [
    {
     "ename": "NameError",
     "evalue": "name 'os' is not defined",
     "output_type": "error",
     "traceback": [
      "\u001b[0;31m---------------------------------------------------------------------------\u001b[0m",
      "\u001b[0;31mNameError\u001b[0m                                 Traceback (most recent call last)",
      "Cell \u001b[0;32mIn[1], line 2\u001b[0m\n\u001b[1;32m      1\u001b[0m \u001b[38;5;66;03m# Get the current working directory\u001b[39;00m\n\u001b[0;32m----> 2\u001b[0m current_dir \u001b[38;5;241m=\u001b[39m \u001b[43mos\u001b[49m\u001b[38;5;241m.\u001b[39mgetcwd()\n\u001b[1;32m      4\u001b[0m \u001b[38;5;66;03m# Assuming 'documentation' is one level deep from the project root\u001b[39;00m\n\u001b[1;32m      5\u001b[0m project_root \u001b[38;5;241m=\u001b[39m os\u001b[38;5;241m.\u001b[39mpath\u001b[38;5;241m.\u001b[39mabspath(os\u001b[38;5;241m.\u001b[39mpath\u001b[38;5;241m.\u001b[39mjoin(current_dir, \u001b[38;5;124m\"\u001b[39m\u001b[38;5;124m..\u001b[39m\u001b[38;5;124m\"\u001b[39m))\n",
      "\u001b[0;31mNameError\u001b[0m: name 'os' is not defined"
     ]
    }
   ],
   "source": [
    "# Get the current working directory\n",
    "current_dir = os.getcwd()\n",
    "\n",
    "# Assuming 'documentation' is one level deep from the project root\n",
    "project_root = os.path.abspath(os.path.join(current_dir, \"..\"))\n",
    "\n",
    "# Add the project root to the system path\n",
    "if project_root not in sys.path:\n",
    "    sys.path.append(project_root)\n",
    "\n",
    "\n",
    "# Import the job submission classes\n",
    "from cluster_submitter.sungrid import Sungrid\n",
    "from cluster_submitter.slurm import Slurm\n",
    "\n",
    "# Initialize Slurm for Slurm\n",
    "slurm_job_manager = Slurm(**personal_config.slurm_config)\n",
    "\n",
    "# Define job parameters for Slurm\n",
    "script_path_slurm = \"../scripts/dialogue.py 1 2 3\"  # Replace with your script path\n",
    "job_time = \"01:00:00\"  # Job time in HH:MM:SS format\n",
    "memory_slurm = 1  # Memory in GB\n",
    "num_cpus_slurm = 1  # Number of CPUs requested\n",
    "sh_path_slurm = \"../scripts\"  # Replace with your path\n",
    "\n",
    "??Slurm.submit_job"
   ]
  },
  {
   "cell_type": "code",
   "execution_count": 9,
   "metadata": {},
   "outputs": [
    {
     "name": "stdout",
     "output_type": "stream",
     "text": [
      "/home/ddalton/miniconda3/envs/ClusterSubmitter/lib/python3.12/site-packages/cluster_submitter/slurm.py\n"
     ]
    }
   ],
   "source": [
    "import cluster_submitter.slurm\n",
    "\n",
    "print(cluster_submitter.slurm.__file__)"
   ]
  },
  {
   "cell_type": "code",
   "execution_count": 16,
   "metadata": {},
   "outputs": [
    {
     "name": "stderr",
     "output_type": "stream",
     "text": [
      "2024-06-13 15:51:25,416 :: INFO :: 'You are more than you think you are. 🌟💚' - Shreck\n",
      "2024-06-13 15:51:25,575 :: INFO :: Running command: cd /home/sbnb/ddalton/projects/ClusterSubmit/documentation; sbatch ../scripts/job_b3f7.sh ../scripts/dialogue.py 1 2 3 \n"
     ]
    },
    {
     "name": "stdout",
     "output_type": "stream",
     "text": [
      "../scripts\n",
      "../scripts\n"
     ]
    },
    {
     "name": "stderr",
     "output_type": "stream",
     "text": [
      "2024-06-13 15:51:25,984 :: INFO :: Submitted batch job 371632\n",
      "\n",
      "2024-06-13 15:51:25,985 :: INFO :: /home/sbnb/ddalton/.bashrc: line 1: /apps/manual/Singularity/3.7.3/etc/profile: No such file or directory\n",
      "\n",
      "2024-06-13 15:51:25,987 :: INFO :: 'Believe in the beauty within. 🌟💚' - Shreck\n",
      "2024-06-13 15:51:26,007 :: INFO :: Connected (version 2.0, client OpenSSH_8.0)\n",
      "2024-06-13 15:51:26,139 :: INFO :: Authentication (password) successful!\n",
      "2024-06-13 15:51:26,139 :: INFO :: Running command: cd /home/sbnb/ddalton/projects/ClusterSubmit/documentation; sbatch ../scripts/job_2b05.sh ../scripts/dialogue.py 1 2 3 \n"
     ]
    },
    {
     "name": "stdout",
     "output_type": "stream",
     "text": [
      "../scripts\n",
      "../scripts\n"
     ]
    },
    {
     "name": "stderr",
     "output_type": "stream",
     "text": [
      "2024-06-13 15:51:27,082 :: INFO :: Submitted batch job 371633\n",
      "\n",
      "2024-06-13 15:51:27,082 :: INFO :: /home/sbnb/ddalton/.bashrc: line 1: /apps/manual/Singularity/3.7.3/etc/profile: No such file or directory\n",
      "\n",
      "2024-06-13 15:51:27,085 :: INFO :: 'Make your own happily ever after. 🏰💖' - Shreck\n",
      "2024-06-13 15:51:27,105 :: INFO :: Connected (version 2.0, client OpenSSH_8.0)\n",
      "2024-06-13 15:51:27,248 :: INFO :: Authentication (password) successful!\n",
      "2024-06-13 15:51:27,248 :: INFO :: Running command: cd /home/sbnb/ddalton/projects/ClusterSubmit/documentation; sbatch ../scripts/job_9738.sh ../scripts/dialogue.py 1 2 3 \n"
     ]
    },
    {
     "name": "stdout",
     "output_type": "stream",
     "text": [
      "../scripts\n",
      "../scripts\n"
     ]
    },
    {
     "name": "stderr",
     "output_type": "stream",
     "text": [
      "2024-06-13 15:51:27,376 :: INFO :: Submitted batch job 371634\n",
      "\n",
      "2024-06-13 15:51:27,376 :: INFO :: /home/sbnb/ddalton/.bashrc: line 1: /apps/manual/Singularity/3.7.3/etc/profile: No such file or directory\n",
      "\n",
      "2024-06-13 15:51:27,379 :: INFO :: 'Make your own magic every day. 🪄✨' - Shreck\n",
      "2024-06-13 15:51:27,398 :: INFO :: Connected (version 2.0, client OpenSSH_8.0)\n",
      "2024-06-13 15:51:27,534 :: INFO :: Authentication (password) successful!\n",
      "2024-06-13 15:51:27,534 :: INFO :: Running command: cd /home/sbnb/ddalton/projects/ClusterSubmit/documentation; sbatch ../scripts/job_7a02.sh ../scripts/dialogue.py 1 2 3 \n"
     ]
    },
    {
     "name": "stdout",
     "output_type": "stream",
     "text": [
      "../scripts\n",
      "../scripts\n"
     ]
    },
    {
     "name": "stderr",
     "output_type": "stream",
     "text": [
      "2024-06-13 15:51:27,652 :: INFO :: Submitted batch job 371635\n",
      "\n",
      "2024-06-13 15:51:27,652 :: INFO :: /home/sbnb/ddalton/.bashrc: line 1: /apps/manual/Singularity/3.7.3/etc/profile: No such file or directory\n",
      "\n",
      "2024-06-13 15:51:27,654 :: INFO :: 'Make each day a new adventure. 🚀✨' - Shreck\n",
      "2024-06-13 15:51:27,668 :: INFO :: Connected (version 2.0, client OpenSSH_8.0)\n",
      "2024-06-13 15:51:27,801 :: INFO :: Authentication (password) successful!\n",
      "2024-06-13 15:51:27,801 :: INFO :: Running command: cd /home/sbnb/ddalton/projects/ClusterSubmit/documentation; sbatch ../scripts/job_b74a.sh ../scripts/dialogue.py 1 2 3 \n"
     ]
    },
    {
     "name": "stdout",
     "output_type": "stream",
     "text": [
      "../scripts\n",
      "../scripts\n"
     ]
    },
    {
     "name": "stderr",
     "output_type": "stream",
     "text": [
      "2024-06-13 15:51:27,918 :: INFO :: Submitted batch job 371636\n",
      "\n",
      "2024-06-13 15:51:27,918 :: INFO :: /home/sbnb/ddalton/.bashrc: line 1: /apps/manual/Singularity/3.7.3/etc/profile: No such file or directory\n",
      "\n",
      "2024-06-13 15:51:27,920 :: INFO :: 'Make your own magic every day. 🪄✨' - Shreck\n",
      "2024-06-13 15:51:27,939 :: INFO :: Connected (version 2.0, client OpenSSH_8.0)\n",
      "2024-06-13 15:51:28,074 :: INFO :: Authentication (password) successful!\n",
      "2024-06-13 15:51:28,074 :: INFO :: Running command: cd /home/sbnb/ddalton/projects/ClusterSubmit/documentation; sbatch ../scripts/job_649b.sh ../scripts/dialogue.py 1 2 3 \n"
     ]
    },
    {
     "name": "stdout",
     "output_type": "stream",
     "text": [
      "../scripts\n",
      "../scripts\n"
     ]
    },
    {
     "name": "stderr",
     "output_type": "stream",
     "text": [
      "2024-06-13 15:51:28,195 :: INFO :: \n",
      "2024-06-13 15:51:28,195 :: INFO :: /home/sbnb/ddalton/.bashrc: line 1: /apps/manual/Singularity/3.7.3/etc/profile: No such file or directory\n",
      "sbatch: error: Invalid directive found in batch script: .%j.out\n",
      "\n",
      "2024-06-13 15:51:28,197 :: INFO :: 'Stand up for what you believe in. 🌟💚' - Shreck\n",
      "2024-06-13 15:51:28,218 :: INFO :: Connected (version 2.0, client OpenSSH_8.0)\n",
      "2024-06-13 15:51:28,349 :: INFO :: Authentication (password) successful!\n",
      "2024-06-13 15:51:28,349 :: INFO :: Running command: cd /home/sbnb/ddalton/projects/ClusterSubmit/documentation; sbatch ../scripts/job_dfb5.sh ../scripts/dialogue.py 1 2 3 \n"
     ]
    },
    {
     "name": "stdout",
     "output_type": "stream",
     "text": [
      "../scripts\n",
      "../scripts\n"
     ]
    },
    {
     "name": "stderr",
     "output_type": "stream",
     "text": [
      "2024-06-13 15:51:28,471 :: INFO :: Submitted batch job 371637\n",
      "\n",
      "2024-06-13 15:51:28,472 :: INFO :: /home/sbnb/ddalton/.bashrc: line 1: /apps/manual/Singularity/3.7.3/etc/profile: No such file or directory\n",
      "\n",
      "2024-06-13 15:51:28,474 :: INFO :: 'True beauty comes from within. 💖💫' - Shreck\n",
      "2024-06-13 15:51:28,495 :: INFO :: Connected (version 2.0, client OpenSSH_8.0)\n",
      "2024-06-13 15:51:28,631 :: INFO :: Authentication (password) successful!\n",
      "2024-06-13 15:51:28,631 :: INFO :: Running command: cd /home/sbnb/ddalton/projects/ClusterSubmit/documentation; sbatch ../scripts/job_6215.sh ../scripts/dialogue.py 1 2 3 \n"
     ]
    },
    {
     "name": "stdout",
     "output_type": "stream",
     "text": [
      "../scripts\n",
      "../scripts\n"
     ]
    },
    {
     "name": "stderr",
     "output_type": "stream",
     "text": [
      "2024-06-13 15:51:28,750 :: INFO :: Submitted batch job 371638\n",
      "\n",
      "2024-06-13 15:51:28,750 :: INFO :: /home/sbnb/ddalton/.bashrc: line 1: /apps/manual/Singularity/3.7.3/etc/profile: No such file or directory\n",
      "\n",
      "2024-06-13 15:51:28,753 :: INFO :: 'You are more than your layers. 🧅💚' - Shreck\n",
      "2024-06-13 15:51:28,774 :: INFO :: Connected (version 2.0, client OpenSSH_8.0)\n",
      "2024-06-13 15:51:28,911 :: INFO :: Authentication (password) successful!\n",
      "2024-06-13 15:51:28,911 :: INFO :: Running command: cd /home/sbnb/ddalton/projects/ClusterSubmit/documentation; sbatch ../scripts/job_668f.sh ../scripts/dialogue.py 1 2 3 \n"
     ]
    },
    {
     "name": "stdout",
     "output_type": "stream",
     "text": [
      "../scripts\n",
      "../scripts\n"
     ]
    },
    {
     "name": "stderr",
     "output_type": "stream",
     "text": [
      "2024-06-13 15:51:29,023 :: INFO :: \n",
      "2024-06-13 15:51:29,023 :: INFO :: /home/sbnb/ddalton/.bashrc: line 1: /apps/manual/Singularity/3.7.3/etc/profile: No such file or directory\n",
      "sbatch: error: Invalid directive found in batch script: .%j.out\n",
      "\n",
      "2024-06-13 15:51:29,026 :: INFO :: 'Every journey begins with a single step. 🛤✨' - Shreck\n",
      "2024-06-13 15:51:29,044 :: INFO :: Connected (version 2.0, client OpenSSH_8.0)\n",
      "2024-06-13 15:51:29,179 :: INFO :: Authentication (password) successful!\n",
      "2024-06-13 15:51:29,179 :: INFO :: Running command: cd /home/sbnb/ddalton/projects/ClusterSubmit/documentation; sbatch ../scripts/job_6f2e.sh ../scripts/dialogue.py 1 2 3 \n"
     ]
    },
    {
     "name": "stdout",
     "output_type": "stream",
     "text": [
      "../scripts\n",
      "../scripts\n"
     ]
    },
    {
     "name": "stderr",
     "output_type": "stream",
     "text": [
      "2024-06-13 15:51:29,300 :: INFO :: Submitted batch job 371639\n",
      "\n",
      "2024-06-13 15:51:29,301 :: INFO :: /home/sbnb/ddalton/.bashrc: line 1: /apps/manual/Singularity/3.7.3/etc/profile: No such file or directory\n",
      "\n",
      "2024-06-13 15:51:29,304 :: INFO :: 'Believe in the power of love. 💖🌟' - Shreck\n",
      "2024-06-13 15:51:29,323 :: INFO :: Connected (version 2.0, client OpenSSH_8.0)\n",
      "2024-06-13 15:51:29,458 :: INFO :: Authentication (password) successful!\n",
      "2024-06-13 15:51:29,458 :: INFO :: Running command: cd /home/sbnb/ddalton/projects/ClusterSubmit/documentation; sbatch ../scripts/job_069e.sh ../scripts/dialogue.py 1 2 3 \n"
     ]
    },
    {
     "name": "stdout",
     "output_type": "stream",
     "text": [
      "../scripts\n",
      "../scripts\n"
     ]
    },
    {
     "name": "stderr",
     "output_type": "stream",
     "text": [
      "2024-06-13 15:51:29,583 :: INFO :: Submitted batch job 371640\n",
      "\n",
      "2024-06-13 15:51:29,583 :: INFO :: /home/sbnb/ddalton/.bashrc: line 1: /apps/manual/Singularity/3.7.3/etc/profile: No such file or directory\n",
      "\n",
      "2024-06-13 15:51:29,591 :: INFO :: 'You are capable of great things. 🌟💚' - Shreck\n",
      "2024-06-13 15:51:29,609 :: INFO :: Connected (version 2.0, client OpenSSH_8.0)\n",
      "2024-06-13 15:51:29,747 :: INFO :: Authentication (password) successful!\n",
      "2024-06-13 15:51:29,747 :: INFO :: Running command: cd /home/sbnb/ddalton/projects/ClusterSubmit/documentation; sbatch ../scripts/job_bea4.sh ../scripts/dialogue.py 1 2 3 \n"
     ]
    },
    {
     "name": "stdout",
     "output_type": "stream",
     "text": [
      "../scripts\n",
      "../scripts\n"
     ]
    },
    {
     "name": "stderr",
     "output_type": "stream",
     "text": [
      "2024-06-13 15:51:29,866 :: INFO :: Submitted batch job 371641\n",
      "\n",
      "2024-06-13 15:51:29,866 :: INFO :: /home/sbnb/ddalton/.bashrc: line 1: /apps/manual/Singularity/3.7.3/etc/profile: No such file or directory\n",
      "\n",
      "2024-06-13 15:51:29,869 :: INFO :: 'Dream big, even if you’re an ogre! 💤💚' - Shreck\n",
      "2024-06-13 15:51:29,889 :: INFO :: Connected (version 2.0, client OpenSSH_8.0)\n",
      "2024-06-13 15:51:30,021 :: INFO :: Authentication (password) successful!\n",
      "2024-06-13 15:51:30,022 :: INFO :: Running command: cd /home/sbnb/ddalton/projects/ClusterSubmit/documentation; sbatch ../scripts/job_094a.sh ../scripts/dialogue.py 1 2 3 \n"
     ]
    },
    {
     "name": "stdout",
     "output_type": "stream",
     "text": [
      "../scripts\n",
      "../scripts\n"
     ]
    },
    {
     "name": "stderr",
     "output_type": "stream",
     "text": [
      "2024-06-13 15:51:30,130 :: INFO :: \n",
      "2024-06-13 15:51:30,130 :: INFO :: /home/sbnb/ddalton/.bashrc: line 1: /apps/manual/Singularity/3.7.3/etc/profile: No such file or directory\n",
      "sbatch: error: Invalid directive found in batch script: .%j.out\n",
      "\n",
      "2024-06-13 15:51:30,132 :: INFO :: 'You are the hero of your fairy tale. 🦸‍♂️🌟' - Shreck\n",
      "2024-06-13 15:51:30,151 :: INFO :: Connected (version 2.0, client OpenSSH_8.0)\n",
      "2024-06-13 15:51:30,279 :: INFO :: Authentication (password) successful!\n",
      "2024-06-13 15:51:30,279 :: INFO :: Running command: cd /home/sbnb/ddalton/projects/ClusterSubmit/documentation; sbatch ../scripts/job_953c.sh ../scripts/dialogue.py 1 2 3 \n"
     ]
    },
    {
     "name": "stdout",
     "output_type": "stream",
     "text": [
      "../scripts\n",
      "../scripts\n"
     ]
    },
    {
     "name": "stderr",
     "output_type": "stream",
     "text": [
      "2024-06-13 15:51:30,391 :: INFO :: Submitted batch job 371642\n",
      "\n",
      "2024-06-13 15:51:30,392 :: INFO :: /home/sbnb/ddalton/.bashrc: line 1: /apps/manual/Singularity/3.7.3/etc/profile: No such file or directory\n",
      "\n",
      "2024-06-13 15:51:30,394 :: INFO :: 'You can conquer any challenge. 🐉💪' - Shreck\n",
      "2024-06-13 15:51:30,413 :: INFO :: Connected (version 2.0, client OpenSSH_8.0)\n",
      "2024-06-13 15:51:30,548 :: INFO :: Authentication (password) successful!\n",
      "2024-06-13 15:51:30,549 :: INFO :: Running command: cd /home/sbnb/ddalton/projects/ClusterSubmit/documentation; sbatch ../scripts/job_fe1d.sh ../scripts/dialogue.py 1 2 3 \n"
     ]
    },
    {
     "name": "stdout",
     "output_type": "stream",
     "text": [
      "../scripts\n",
      "../scripts\n"
     ]
    },
    {
     "name": "stderr",
     "output_type": "stream",
     "text": [
      "2024-06-13 15:51:30,670 :: INFO :: Submitted batch job 371643\n",
      "\n",
      "2024-06-13 15:51:30,671 :: INFO :: /home/sbnb/ddalton/.bashrc: line 1: /apps/manual/Singularity/3.7.3/etc/profile: No such file or directory\n",
      "\n",
      "2024-06-13 15:51:30,673 :: INFO :: 'You are the author of your fairy tale. ✍️🌟' - Shreck\n",
      "2024-06-13 15:51:30,693 :: INFO :: Connected (version 2.0, client OpenSSH_8.0)\n",
      "2024-06-13 15:51:30,827 :: INFO :: Authentication (password) successful!\n",
      "2024-06-13 15:51:30,827 :: INFO :: Running command: cd /home/sbnb/ddalton/projects/ClusterSubmit/documentation; sbatch ../scripts/job_94b3.sh ../scripts/dialogue.py 1 2 3 \n"
     ]
    },
    {
     "name": "stdout",
     "output_type": "stream",
     "text": [
      "../scripts\n",
      "../scripts\n"
     ]
    },
    {
     "name": "stderr",
     "output_type": "stream",
     "text": [
      "2024-06-13 15:51:30,945 :: INFO :: Submitted batch job 371644\n",
      "\n",
      "2024-06-13 15:51:30,945 :: INFO :: /home/sbnb/ddalton/.bashrc: line 1: /apps/manual/Singularity/3.7.3/etc/profile: No such file or directory\n",
      "\n",
      "2024-06-13 15:51:30,947 :: INFO :: 'You’re unique, just like me! 👑🐉' - Shreck\n",
      "2024-06-13 15:51:30,985 :: INFO :: Connected (version 2.0, client OpenSSH_8.0)\n",
      "2024-06-13 15:51:31,121 :: INFO :: Authentication (password) successful!\n",
      "2024-06-13 15:51:31,121 :: INFO :: Running command: cd /home/sbnb/ddalton/projects/ClusterSubmit/documentation; sbatch ../scripts/job_5398.sh ../scripts/dialogue.py 1 2 3 \n"
     ]
    },
    {
     "name": "stdout",
     "output_type": "stream",
     "text": [
      "../scripts\n",
      "../scripts\n"
     ]
    },
    {
     "name": "stderr",
     "output_type": "stream",
     "text": [
      "2024-06-13 15:51:31,238 :: INFO :: Submitted batch job 371645\n",
      "\n",
      "2024-06-13 15:51:31,239 :: INFO :: /home/sbnb/ddalton/.bashrc: line 1: /apps/manual/Singularity/3.7.3/etc/profile: No such file or directory\n",
      "\n",
      "2024-06-13 15:51:31,241 :: INFO :: 'You are your own fairy tale hero. 🦸‍♀️🌟' - Shreck\n",
      "2024-06-13 15:51:31,259 :: INFO :: Connected (version 2.0, client OpenSSH_8.0)\n",
      "2024-06-13 15:51:31,393 :: INFO :: Authentication (password) successful!\n",
      "2024-06-13 15:51:31,393 :: INFO :: Running command: cd /home/sbnb/ddalton/projects/ClusterSubmit/documentation; sbatch ../scripts/job_dfe3.sh ../scripts/dialogue.py 1 2 3 \n"
     ]
    },
    {
     "name": "stdout",
     "output_type": "stream",
     "text": [
      "../scripts\n",
      "../scripts\n"
     ]
    },
    {
     "name": "stderr",
     "output_type": "stream",
     "text": [
      "2024-06-13 15:51:31,514 :: INFO :: Submitted batch job 371646\n",
      "\n",
      "2024-06-13 15:51:31,515 :: INFO :: /home/sbnb/ddalton/.bashrc: line 1: /apps/manual/Singularity/3.7.3/etc/profile: No such file or directory\n",
      "\n",
      "2024-06-13 15:51:31,517 :: INFO :: 'Find joy in the simple things. 🌼🌟' - Shreck\n",
      "2024-06-13 15:51:31,536 :: INFO :: Connected (version 2.0, client OpenSSH_8.0)\n",
      "2024-06-13 15:51:31,669 :: INFO :: Authentication (password) successful!\n",
      "2024-06-13 15:51:31,669 :: INFO :: Running command: cd /home/sbnb/ddalton/projects/ClusterSubmit/documentation; sbatch ../scripts/job_7188.sh ../scripts/dialogue.py 1 2 3 \n"
     ]
    },
    {
     "name": "stdout",
     "output_type": "stream",
     "text": [
      "../scripts\n",
      "../scripts\n"
     ]
    },
    {
     "name": "stderr",
     "output_type": "stream",
     "text": [
      "2024-06-13 15:51:31,786 :: INFO :: \n",
      "2024-06-13 15:51:31,786 :: INFO :: /home/sbnb/ddalton/.bashrc: line 1: /apps/manual/Singularity/3.7.3/etc/profile: No such file or directory\n",
      "sbatch: error: Invalid directive found in batch script: .%j.out\n",
      "\n",
      "2024-06-13 15:51:31,788 :: INFO :: 'Every swamp has its beauty. 🌿💧' - Shreck\n",
      "2024-06-13 15:51:31,800 :: INFO :: Connected (version 2.0, client OpenSSH_8.0)\n",
      "2024-06-13 15:51:31,936 :: INFO :: Authentication (password) successful!\n",
      "2024-06-13 15:51:31,936 :: INFO :: Running command: cd /home/sbnb/ddalton/projects/ClusterSubmit/documentation; sbatch ../scripts/job_c929.sh ../scripts/dialogue.py 1 2 3 \n"
     ]
    },
    {
     "name": "stdout",
     "output_type": "stream",
     "text": [
      "../scripts\n",
      "../scripts\n"
     ]
    },
    {
     "name": "stderr",
     "output_type": "stream",
     "text": [
      "2024-06-13 15:51:32,059 :: INFO :: Submitted batch job 371647\n",
      "\n",
      "2024-06-13 15:51:32,059 :: INFO :: /home/sbnb/ddalton/.bashrc: line 1: /apps/manual/Singularity/3.7.3/etc/profile: No such file or directory\n",
      "\n",
      "2024-06-13 15:51:32,067 :: INFO :: 'The greatest treasure lies within. 💖🏴‍☠️' - Shreck\n",
      "2024-06-13 15:51:32,087 :: INFO :: Connected (version 2.0, client OpenSSH_8.0)\n",
      "2024-06-13 15:51:32,223 :: INFO :: Authentication (password) successful!\n",
      "2024-06-13 15:51:32,223 :: INFO :: Running command: cd /home/sbnb/ddalton/projects/ClusterSubmit/documentation; sbatch ../scripts/job_6dd6.sh ../scripts/dialogue.py 1 2 3 \n"
     ]
    },
    {
     "name": "stdout",
     "output_type": "stream",
     "text": [
      "../scripts\n",
      "../scripts\n"
     ]
    },
    {
     "name": "stderr",
     "output_type": "stream",
     "text": [
      "2024-06-13 15:51:32,341 :: INFO :: Submitted batch job 371648\n",
      "\n",
      "2024-06-13 15:51:32,341 :: INFO :: /home/sbnb/ddalton/.bashrc: line 1: /apps/manual/Singularity/3.7.3/etc/profile: No such file or directory\n",
      "\n",
      "2024-06-13 15:51:32,343 :: INFO :: 'You can change your story. 📖🔄' - Shreck\n",
      "2024-06-13 15:51:32,364 :: INFO :: Connected (version 2.0, client OpenSSH_8.0)\n",
      "2024-06-13 15:51:32,498 :: INFO :: Authentication (password) successful!\n",
      "2024-06-13 15:51:32,498 :: INFO :: Running command: cd /home/sbnb/ddalton/projects/ClusterSubmit/documentation; sbatch ../scripts/job_a2c7.sh ../scripts/dialogue.py 1 2 3 \n"
     ]
    },
    {
     "name": "stdout",
     "output_type": "stream",
     "text": [
      "../scripts\n",
      "../scripts\n"
     ]
    },
    {
     "name": "stderr",
     "output_type": "stream",
     "text": [
      "2024-06-13 15:51:32,614 :: INFO :: \n",
      "2024-06-13 15:51:32,614 :: INFO :: /home/sbnb/ddalton/.bashrc: line 1: /apps/manual/Singularity/3.7.3/etc/profile: No such file or directory\n",
      "sbatch: error: Invalid directive found in batch script: .%j.out\n",
      "\n",
      "2024-06-13 15:51:32,617 :: INFO :: 'Find joy in the simple moments. 🌼✨' - Shreck\n",
      "2024-06-13 15:51:32,636 :: INFO :: Connected (version 2.0, client OpenSSH_8.0)\n",
      "2024-06-13 15:51:32,769 :: INFO :: Authentication (password) successful!\n",
      "2024-06-13 15:51:32,769 :: INFO :: Running command: cd /home/sbnb/ddalton/projects/ClusterSubmit/documentation; sbatch ../scripts/job_ccb2.sh ../scripts/dialogue.py 1 2 3 \n"
     ]
    },
    {
     "name": "stdout",
     "output_type": "stream",
     "text": [
      "../scripts\n",
      "../scripts\n"
     ]
    },
    {
     "name": "stderr",
     "output_type": "stream",
     "text": [
      "2024-06-13 15:51:32,892 :: INFO :: Submitted batch job 371649\n",
      "\n",
      "2024-06-13 15:51:32,893 :: INFO :: /home/sbnb/ddalton/.bashrc: line 1: /apps/manual/Singularity/3.7.3/etc/profile: No such file or directory\n",
      "\n",
      "2024-06-13 15:51:32,899 :: INFO :: 'Believe in the power of love. 💖🌟' - Shreck\n",
      "2024-06-13 15:51:32,918 :: INFO :: Connected (version 2.0, client OpenSSH_8.0)\n",
      "2024-06-13 15:51:33,055 :: INFO :: Authentication (password) successful!\n",
      "2024-06-13 15:51:33,055 :: INFO :: Running command: cd /home/sbnb/ddalton/projects/ClusterSubmit/documentation; sbatch ../scripts/job_7a00.sh ../scripts/dialogue.py 1 2 3 \n"
     ]
    },
    {
     "name": "stdout",
     "output_type": "stream",
     "text": [
      "../scripts\n",
      "../scripts\n"
     ]
    },
    {
     "name": "stderr",
     "output_type": "stream",
     "text": [
      "2024-06-13 15:51:33,175 :: INFO :: Submitted batch job 371650\n",
      "\n",
      "2024-06-13 15:51:33,175 :: INFO :: /home/sbnb/ddalton/.bashrc: line 1: /apps/manual/Singularity/3.7.3/etc/profile: No such file or directory\n",
      "\n",
      "2024-06-13 15:51:33,179 :: INFO :: 'True love can conquer anything. 💖🏰' - Shreck\n",
      "2024-06-13 15:51:33,199 :: INFO :: Connected (version 2.0, client OpenSSH_8.0)\n",
      "2024-06-13 15:51:33,334 :: INFO :: Authentication (password) successful!\n",
      "2024-06-13 15:51:33,335 :: INFO :: Running command: cd /home/sbnb/ddalton/projects/ClusterSubmit/documentation; sbatch ../scripts/job_eac3.sh ../scripts/dialogue.py 1 2 3 \n"
     ]
    },
    {
     "name": "stdout",
     "output_type": "stream",
     "text": [
      "../scripts\n",
      "../scripts\n"
     ]
    },
    {
     "name": "stderr",
     "output_type": "stream",
     "text": [
      "2024-06-13 15:51:33,456 :: INFO :: Submitted batch job 371651\n",
      "\n",
      "2024-06-13 15:51:33,456 :: INFO :: /home/sbnb/ddalton/.bashrc: line 1: /apps/manual/Singularity/3.7.3/etc/profile: No such file or directory\n",
      "\n",
      "2024-06-13 15:51:33,458 :: INFO :: 'Find the magic in your own story. 📖✨' - Shreck\n",
      "2024-06-13 15:51:33,478 :: INFO :: Connected (version 2.0, client OpenSSH_8.0)\n",
      "2024-06-13 15:51:33,614 :: INFO :: Authentication (password) successful!\n",
      "2024-06-13 15:51:33,615 :: INFO :: Running command: cd /home/sbnb/ddalton/projects/ClusterSubmit/documentation; sbatch ../scripts/job_4e01.sh ../scripts/dialogue.py 1 2 3 \n"
     ]
    },
    {
     "name": "stdout",
     "output_type": "stream",
     "text": [
      "../scripts\n",
      "../scripts\n"
     ]
    },
    {
     "name": "stderr",
     "output_type": "stream",
     "text": [
      "2024-06-13 15:51:33,733 :: INFO :: \n",
      "2024-06-13 15:51:33,733 :: INFO :: /home/sbnb/ddalton/.bashrc: line 1: /apps/manual/Singularity/3.7.3/etc/profile: No such file or directory\n",
      "sbatch: error: Invalid directive found in batch script: .%j.out\n",
      "\n",
      "2024-06-13 15:51:33,735 :: INFO :: 'True beauty comes from within. 💖💫' - Shreck\n",
      "2024-06-13 15:51:33,754 :: INFO :: Connected (version 2.0, client OpenSSH_8.0)\n",
      "2024-06-13 15:51:33,889 :: INFO :: Authentication (password) successful!\n",
      "2024-06-13 15:51:33,889 :: INFO :: Running command: cd /home/sbnb/ddalton/projects/ClusterSubmit/documentation; sbatch ../scripts/job_a92f.sh ../scripts/dialogue.py 1 2 3 \n"
     ]
    },
    {
     "name": "stdout",
     "output_type": "stream",
     "text": [
      "../scripts\n",
      "../scripts\n"
     ]
    },
    {
     "name": "stderr",
     "output_type": "stream",
     "text": [
      "2024-06-13 15:51:34,017 :: INFO :: Submitted batch job 371652\n",
      "\n",
      "2024-06-13 15:51:34,017 :: INFO :: /home/sbnb/ddalton/.bashrc: line 1: /apps/manual/Singularity/3.7.3/etc/profile: No such file or directory\n",
      "\n",
      "2024-06-13 15:51:34,020 :: INFO :: 'Believe in the magic within you. 🪄💫' - Shreck\n",
      "2024-06-13 15:51:34,040 :: INFO :: Connected (version 2.0, client OpenSSH_8.0)\n",
      "2024-06-13 15:51:34,175 :: INFO :: Authentication (password) successful!\n",
      "2024-06-13 15:51:34,175 :: INFO :: Running command: cd /home/sbnb/ddalton/projects/ClusterSubmit/documentation; sbatch ../scripts/job_4812.sh ../scripts/dialogue.py 1 2 3 \n"
     ]
    },
    {
     "name": "stdout",
     "output_type": "stream",
     "text": [
      "../scripts\n",
      "../scripts\n"
     ]
    },
    {
     "name": "stderr",
     "output_type": "stream",
     "text": [
      "2024-06-13 15:51:34,296 :: INFO :: Submitted batch job 371653\n",
      "\n",
      "2024-06-13 15:51:34,297 :: INFO :: /home/sbnb/ddalton/.bashrc: line 1: /apps/manual/Singularity/3.7.3/etc/profile: No such file or directory\n",
      "\n",
      "2024-06-13 15:51:34,299 :: INFO :: 'You are the hero of your own story. 🦸‍♂️🌟' - Shreck\n",
      "2024-06-13 15:51:34,318 :: INFO :: Connected (version 2.0, client OpenSSH_8.0)\n",
      "2024-06-13 15:51:34,453 :: INFO :: Authentication (password) successful!\n",
      "2024-06-13 15:51:34,454 :: INFO :: Running command: cd /home/sbnb/ddalton/projects/ClusterSubmit/documentation; sbatch ../scripts/job_b476.sh ../scripts/dialogue.py 1 2 3 \n"
     ]
    },
    {
     "name": "stdout",
     "output_type": "stream",
     "text": [
      "../scripts\n",
      "../scripts\n"
     ]
    },
    {
     "name": "stderr",
     "output_type": "stream",
     "text": [
      "2024-06-13 15:51:34,571 :: INFO :: Submitted batch job 371654\n",
      "\n",
      "2024-06-13 15:51:34,571 :: INFO :: /home/sbnb/ddalton/.bashrc: line 1: /apps/manual/Singularity/3.7.3/etc/profile: No such file or directory\n",
      "\n",
      "2024-06-13 15:51:34,574 :: INFO :: 'Every swamp has its own beauty. 🌿💫' - Shreck\n",
      "2024-06-13 15:51:34,594 :: INFO :: Connected (version 2.0, client OpenSSH_8.0)\n",
      "2024-06-13 15:51:34,730 :: INFO :: Authentication (password) successful!\n",
      "2024-06-13 15:51:34,731 :: INFO :: Running command: cd /home/sbnb/ddalton/projects/ClusterSubmit/documentation; sbatch ../scripts/job_9955.sh ../scripts/dialogue.py 1 2 3 \n"
     ]
    },
    {
     "name": "stdout",
     "output_type": "stream",
     "text": [
      "../scripts\n",
      "../scripts\n"
     ]
    },
    {
     "name": "stderr",
     "output_type": "stream",
     "text": [
      "2024-06-13 15:51:34,852 :: INFO :: Submitted batch job 371655\n",
      "\n",
      "2024-06-13 15:51:34,853 :: INFO :: /home/sbnb/ddalton/.bashrc: line 1: /apps/manual/Singularity/3.7.3/etc/profile: No such file or directory\n",
      "\n",
      "2024-06-13 15:51:34,861 :: INFO :: 'True love’s kiss can break any spell. 💋🔮' - Shreck\n",
      "2024-06-13 15:51:34,888 :: INFO :: Connected (version 2.0, client OpenSSH_8.0)\n",
      "2024-06-13 15:51:35,026 :: INFO :: Authentication (password) successful!\n",
      "2024-06-13 15:51:35,027 :: INFO :: Running command: cd /home/sbnb/ddalton/projects/ClusterSubmit/documentation; sbatch ../scripts/job_c5f9.sh ../scripts/dialogue.py 1 2 3 \n"
     ]
    },
    {
     "name": "stdout",
     "output_type": "stream",
     "text": [
      "../scripts\n",
      "../scripts\n"
     ]
    },
    {
     "name": "stderr",
     "output_type": "stream",
     "text": [
      "2024-06-13 15:51:35,149 :: INFO :: Submitted batch job 371656\n",
      "\n",
      "2024-06-13 15:51:35,150 :: INFO :: /home/sbnb/ddalton/.bashrc: line 1: /apps/manual/Singularity/3.7.3/etc/profile: No such file or directory\n",
      "\n",
      "2024-06-13 15:51:35,158 :: INFO :: 'Turn your dreams into fairy tales. 🏰🌟' - Shreck\n",
      "2024-06-13 15:51:35,181 :: INFO :: Connected (version 2.0, client OpenSSH_8.0)\n",
      "2024-06-13 15:51:35,322 :: INFO :: Authentication (password) successful!\n",
      "2024-06-13 15:51:35,323 :: INFO :: Running command: cd /home/sbnb/ddalton/projects/ClusterSubmit/documentation; sbatch ../scripts/job_950f.sh ../scripts/dialogue.py 1 2 3 \n"
     ]
    },
    {
     "name": "stdout",
     "output_type": "stream",
     "text": [
      "../scripts\n",
      "../scripts\n"
     ]
    },
    {
     "name": "stderr",
     "output_type": "stream",
     "text": [
      "2024-06-13 15:51:35,441 :: INFO :: Submitted batch job 371657\n",
      "\n",
      "2024-06-13 15:51:35,441 :: INFO :: /home/sbnb/ddalton/.bashrc: line 1: /apps/manual/Singularity/3.7.3/etc/profile: No such file or directory\n",
      "\n",
      "2024-06-13 15:51:35,443 :: INFO :: 'Believe in the magic within you. 🪄💫' - Shreck\n",
      "2024-06-13 15:51:35,463 :: INFO :: Connected (version 2.0, client OpenSSH_8.0)\n",
      "2024-06-13 15:51:35,599 :: INFO :: Authentication (password) successful!\n",
      "2024-06-13 15:51:35,599 :: INFO :: Running command: cd /home/sbnb/ddalton/projects/ClusterSubmit/documentation; sbatch ../scripts/job_c739.sh ../scripts/dialogue.py 1 2 3 \n"
     ]
    },
    {
     "name": "stdout",
     "output_type": "stream",
     "text": [
      "../scripts\n",
      "../scripts\n"
     ]
    },
    {
     "name": "stderr",
     "output_type": "stream",
     "text": [
      "2024-06-13 15:51:35,721 :: INFO :: Submitted batch job 371658\n",
      "\n",
      "2024-06-13 15:51:35,721 :: INFO :: /home/sbnb/ddalton/.bashrc: line 1: /apps/manual/Singularity/3.7.3/etc/profile: No such file or directory\n",
      "\n"
     ]
    },
    {
     "name": "stdout",
     "output_type": "stream",
     "text": [
      "Job submitted to Slurm successfully!\n"
     ]
    }
   ],
   "source": [
    "for s in test[::-1]:\n",
    "    slurm_job_manager.submit_job(\n",
    "        script_py=script_path_slurm,\n",
    "        time=job_time,\n",
    "        mem=memory_slurm,\n",
    "        cpus=num_cpus_slurm,\n",
    "        array=\"1-1\",\n",
    "        ntasks=1,\n",
    "        N=s,\n",
    "        args=None,  # Replace with any script arguments if needed\n",
    "        sh_path=sh_path_slurm,\n",
    "        eo_path=\"../scripts/logs\",  # Replace with your log directory\n",
    "        image=\"/aloy/home/ddalton/singularity_images/disease_sig.simg\",  # Replace with your Singularity image\n",
    "        cc_image=False,\n",
    "        os_remove=True,\n",
    "        partition=\"sbnb_cpu_zen3\",  # Replace with your partition\n",
    "        # exclude=\"node[01-05]\"  # Replace with nodes to exclude if necessary\n",
    "    )\n",
    "\n",
    "# Print confirmation\n",
    "print(\"Job submitted to Slurm successfully!\")"
   ]
  },
  {
   "cell_type": "code",
   "execution_count": 13,
   "metadata": {},
   "outputs": [],
   "source": [
    "test = \"quedate que la noche sin ti duele\""
   ]
  },
  {
   "cell_type": "code",
   "execution_count": 15,
   "metadata": {},
   "outputs": [
    {
     "data": {
      "text/plain": [
       "33"
      ]
     },
     "execution_count": 15,
     "metadata": {},
     "output_type": "execute_result"
    }
   ],
   "source": [
    "len(test[::-1])"
   ]
  },
  {
   "cell_type": "code",
   "execution_count": 4,
   "metadata": {},
   "outputs": [
    {
     "name": "stderr",
     "output_type": "stream",
     "text": [
      "2024-06-13 14:51:38,317 :: INFO :: Connected (version 2.0, client OpenSSH_8.0)\n",
      "2024-06-13 14:51:38,454 :: INFO :: Authentication (password) successful!\n"
     ]
    }
   ],
   "source": [
    "import paramiko\n",
    "\n",
    "\n",
    "ssh = paramiko.SSHClient()\n",
    "ssh.load_system_host_keys()\n",
    "ssh.connect(\n",
    "    personal_config.slurm_config.get(\"host\"),\n",
    "    username=personal_config.slurm_config.get(\"username\"),\n",
    "    password=personal_config.slurm_config.get(\"password\"),\n",
    ")\n",
    "stdin, stdout, stderr = ssh.exec_command(\n",
    "    \"cd ../scripts/; sbatch job_1778.sh dialogue.py\"\n",
    ")\n",
    "stdin, stdout, stderr = ssh.exec_command(\"ls\")"
   ]
  },
  {
   "cell_type": "code",
   "execution_count": 5,
   "metadata": {},
   "outputs": [
    {
     "name": "stdout",
     "output_type": "stream",
     "text": [
      "ls stdout: 20221214_163825.jpg\n",
      "IT\n",
      "STDIN.e770167\n",
      "STDIN.o770167\n",
      "SignaturizerAPI\n",
      "area_52\n",
      "cc\n",
      "cc_versions\n",
      "hpc\n",
      "job-bashrc_test.04.sh.o772318\n",
      "logs\n",
      "multioutpudylan.02.py\n",
      "network.png\n",
      "nn_multilabel.binding.py.e770567\n",
      "nn_multilabel.binding.py.o770567\n",
      "nri.2018.26.pdf\n",
      "ondemand\n",
      "output_2.png\n",
      "packages\n",
      "plot_test.png\n",
      "privatemodules\n",
      "projects\n",
      "qdel.sh\n",
      "rm\n",
      "run_jupyter_cpus\n",
      "scratch_irb\n",
      "sdata201433.pdf\n",
      "signaturizer_models\n",
      "singularity_images\n",
      "srep26094.pdf\n",
      "startjup-main\n",
      "startjup-main.zip\n",
      "test.py.e772508\n",
      "test.py.o772508\n",
      "test_cc\n",
      "tests\n",
      "tm\n",
      "\n",
      "ls stderr: /home/sbnb/ddalton/.bashrc: line 1: /apps/manual/Singularity/3.7.3/etc/profile: No such file or directory\n",
      "\n"
     ]
    }
   ],
   "source": [
    "# Print the output of the 'ls' command\n",
    "print(\"ls stdout:\", stdout.read().decode())\n",
    "print(\"ls stderr:\", stderr.read().decode())"
   ]
  },
  {
   "cell_type": "code",
   "execution_count": 6,
   "metadata": {},
   "outputs": [
    {
     "data": {
      "text/plain": [
       "{'host': 'irblogin01.irbbarcelona.pcb.ub.es',\n",
       " 'username': 'ddalton',\n",
       " 'password': 'Teclado$$11'}"
      ]
     },
     "execution_count": 6,
     "metadata": {},
     "output_type": "execute_result"
    }
   ],
   "source": [
    "personal_config.slurm_config"
   ]
  },
  {
   "cell_type": "code",
   "execution_count": 7,
   "metadata": {},
   "outputs": [],
   "source": [
    "from cluster_submitter.sungrid import Sungrid\n",
    "from cluster_submitter.slurm import Slurm"
   ]
  },
  {
   "cell_type": "markdown",
   "metadata": {
    "vscode": {
     "languageId": "plaintext"
    }
   },
   "source": [
    "## SUNGRID Jobs"
   ]
  },
  {
   "cell_type": "code",
   "execution_count": null,
   "metadata": {},
   "outputs": [],
   "source": []
  }
 ],
 "metadata": {
  "kernelspec": {
   "display_name": "xgboost-env",
   "language": "python",
   "name": "python3"
  },
  "language_info": {
   "codemirror_mode": {
    "name": "ipython",
    "version": 3
   },
   "file_extension": ".py",
   "mimetype": "text/x-python",
   "name": "python",
   "nbconvert_exporter": "python",
   "pygments_lexer": "ipython3",
   "version": "3.12.3"
  }
 },
 "nbformat": 4,
 "nbformat_minor": 2
}
