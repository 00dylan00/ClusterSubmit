{
 "cells": [
  {
   "cell_type": "markdown",
   "metadata": {},
   "source": [
    "# Tutorial Notebook"
   ]
  },
  {
   "cell_type": "markdown",
   "metadata": {},
   "source": [
    "## Single Job Example"
   ]
  },
  {
   "cell_type": "code",
   "execution_count": 1,
   "metadata": {},
   "outputs": [
    {
     "name": "stderr",
     "output_type": "stream",
     "text": [
      "2024-11-26 11:22:17,729 :: INFO :: 'Be yourself, everyone else is taken. 🌟💚' - Shreck\n",
      "2024-11-26 11:22:17,766 :: INFO :: Connected (version 2.0, client OpenSSH_8.0)\n",
      "2024-11-26 11:22:17,858 :: INFO :: Authentication (publickey) successful!\n"
     ]
    }
   ],
   "source": [
    "# imports\n",
    "import sys, os, json\n",
    "\n",
    "sys.path.insert(0, \"/aloy/home/ddalton/projects/ClusterSubmit\")\n",
    "from cluster_submitter import *\n",
    "\n",
    "# variables\n",
    "slurm_config = {\n",
    "    \"host\": \"irblogin01.irbbarcelona.pcb.ub.es\",\n",
    "    \"username\": \"ddalton\",\n",
    "    \"password\": \"\",\n",
    "}\n",
    "\n",
    "# initialize slurm job manager\n",
    "slurm_jb = Slurm(**slurm_config)"
   ]
  },
  {
   "cell_type": "code",
   "execution_count": 5,
   "metadata": {},
   "outputs": [
    {
     "ename": "FileNotFoundError",
     "evalue": "Path /aloy/home/ddalton/projects/ClusterSubmit/documentation/logs/ does not exist.",
     "output_type": "error",
     "traceback": [
      "\u001b[0;31m---------------------------------------------------------------------------\u001b[0m",
      "\u001b[0;31mFileNotFoundError\u001b[0m                         Traceback (most recent call last)",
      "Cell \u001b[0;32mIn[5], line 2\u001b[0m\n\u001b[1;32m      1\u001b[0m \u001b[38;5;66;03m# submit job\u001b[39;00m\n\u001b[0;32m----> 2\u001b[0m \u001b[43mslurm_jb\u001b[49m\u001b[38;5;241;43m.\u001b[39;49m\u001b[43msubmit_job\u001b[49m\u001b[43m(\u001b[49m\n\u001b[1;32m      3\u001b[0m \u001b[43m    \u001b[49m\u001b[43mscript_py\u001b[49m\u001b[38;5;241;43m=\u001b[39;49m\u001b[38;5;124;43m\"\u001b[39;49m\u001b[38;5;124;43m../scripts/test.py\u001b[39;49m\u001b[38;5;124;43m\"\u001b[39;49m\u001b[43m,\u001b[49m\u001b[43m  \u001b[49m\u001b[38;5;66;43;03m# path to the python script\u001b[39;49;00m\n\u001b[1;32m      4\u001b[0m \u001b[43m    \u001b[49m\u001b[43mtime\u001b[49m\u001b[38;5;241;43m=\u001b[39;49m\u001b[38;5;124;43m\"\u001b[39;49m\u001b[38;5;124;43m0-10:00:00\u001b[39;49m\u001b[38;5;124;43m\"\u001b[39;49m\u001b[43m,\u001b[49m\u001b[43m  \u001b[49m\u001b[38;5;66;43;03m# time in days-hours:minutes:seconds\u001b[39;49;00m\n\u001b[1;32m      5\u001b[0m \u001b[43m    \u001b[49m\u001b[43mmem\u001b[49m\u001b[38;5;241;43m=\u001b[39;49m\u001b[38;5;241;43m1\u001b[39;49m\u001b[43m,\u001b[49m\u001b[43m  \u001b[49m\u001b[38;5;66;43;03m# memory in GB\u001b[39;49;00m\n\u001b[1;32m      6\u001b[0m \u001b[43m    \u001b[49m\u001b[43mcpus\u001b[49m\u001b[38;5;241;43m=\u001b[39;49m\u001b[38;5;241;43m1\u001b[39;49m\u001b[43m,\u001b[49m\u001b[43m  \u001b[49m\u001b[38;5;66;43;03m# number of cpus\u001b[39;49;00m\n\u001b[1;32m      7\u001b[0m \u001b[43m    \u001b[49m\u001b[43mN\u001b[49m\u001b[38;5;241;43m=\u001b[39;49m\u001b[38;5;124;43m\"\u001b[39;49m\u001b[38;5;124;43mtest\u001b[39;49m\u001b[38;5;124;43m\"\u001b[39;49m\u001b[43m,\u001b[49m\u001b[43m  \u001b[49m\u001b[38;5;66;43;03m# job name\u001b[39;49;00m\n\u001b[1;32m      8\u001b[0m \u001b[43m    \u001b[49m\u001b[38;5;66;43;03m# gpus=1,\u001b[39;49;00m\n\u001b[1;32m      9\u001b[0m \u001b[43m    \u001b[49m\u001b[43msh_path\u001b[49m\u001b[38;5;241;43m=\u001b[39;49m\u001b[38;5;124;43m\"\u001b[39;49m\u001b[38;5;124;43m../scripts\u001b[39;49m\u001b[38;5;124;43m\"\u001b[39;49m\u001b[43m,\u001b[49m\u001b[43m  \u001b[49m\u001b[38;5;66;43;03m# path to save the slurm script\u001b[39;49;00m\n\u001b[1;32m     10\u001b[0m \u001b[43m    \u001b[49m\u001b[43meo_path\u001b[49m\u001b[38;5;241;43m=\u001b[39;49m\u001b[38;5;124;43m\"\u001b[39;49m\u001b[38;5;124;43mlogs/\u001b[39;49m\u001b[38;5;124;43m\"\u001b[39;49m\u001b[43m,\u001b[49m\u001b[43m  \u001b[49m\u001b[38;5;66;43;03m# path to save the error output\u001b[39;49;00m\n\u001b[1;32m     11\u001b[0m \u001b[43m    \u001b[49m\u001b[43mimage\u001b[49m\u001b[38;5;241;43m=\u001b[39;49m\u001b[38;5;124;43m\"\u001b[39;49m\u001b[38;5;124;43m/aloy/home/ddalton/singularity_images/scgpt.sif\u001b[39;49m\u001b[38;5;124;43m\"\u001b[39;49m\u001b[43m,\u001b[49m\u001b[43m  \u001b[49m\u001b[38;5;66;43;03m# path to the singularity image\u001b[39;49;00m\n\u001b[1;32m     12\u001b[0m \u001b[43m    \u001b[49m\u001b[43mos_remove\u001b[49m\u001b[38;5;241;43m=\u001b[39;49m\u001b[38;5;28;43;01mTrue\u001b[39;49;00m\u001b[43m,\u001b[49m\u001b[43m  \u001b[49m\u001b[38;5;66;43;03m# remove the slurm script after submission\u001b[39;49;00m\n\u001b[1;32m     13\u001b[0m \u001b[43m    \u001b[49m\u001b[43mpartition\u001b[49m\u001b[38;5;241;43m=\u001b[39;49m\u001b[38;5;124;43m\"\u001b[39;49m\u001b[38;5;124;43msbnb_cpu_sphr\u001b[39;49m\u001b[38;5;124;43m\"\u001b[39;49m\u001b[43m,\u001b[49m\u001b[43m  \u001b[49m\u001b[38;5;66;43;03m# partition\u001b[39;49;00m\n\u001b[1;32m     14\u001b[0m \u001b[43m)\u001b[49m\n",
      "File \u001b[0;32m/aloy/home/ddalton/projects/ClusterSubmit/cluster_submitter/slurm.py:78\u001b[0m, in \u001b[0;36mSlurm.submit_job\u001b[0;34m(self, script_py, time, mem, cpus, n_array, n_concurrent, gpus, N, args, sh_path, eo_path, image, cc_image, os_remove, partition, exclude)\u001b[0m\n\u001b[1;32m     73\u001b[0m         \u001b[38;5;28mself\u001b[39m\u001b[38;5;241m.\u001b[39m_submit_single_job(script_py, time, mem, cpus, array\u001b[38;5;241m=\u001b[39marray_params, offset\u001b[38;5;241m=\u001b[39mn_jobs\u001b[38;5;241m*\u001b[39mmax_jobs, gpus\u001b[38;5;241m=\u001b[39mgpus, N\u001b[38;5;241m=\u001b[39mN, args\u001b[38;5;241m=\u001b[39margs,\n\u001b[1;32m     74\u001b[0m            sh_path\u001b[38;5;241m=\u001b[39msh_path, eo_path\u001b[38;5;241m=\u001b[39meo_path, image\u001b[38;5;241m=\u001b[39mimage, cc_image\u001b[38;5;241m=\u001b[39mcc_image,\n\u001b[1;32m     75\u001b[0m            os_remove\u001b[38;5;241m=\u001b[39mos_remove, partition\u001b[38;5;241m=\u001b[39mpartition, exclude\u001b[38;5;241m=\u001b[39mexclude)\n\u001b[1;32m     77\u001b[0m \u001b[38;5;28;01melse\u001b[39;00m:\n\u001b[0;32m---> 78\u001b[0m     \u001b[38;5;28;43mself\u001b[39;49m\u001b[38;5;241;43m.\u001b[39;49m\u001b[43m_submit_single_job\u001b[49m\u001b[43m(\u001b[49m\u001b[43mscript_py\u001b[49m\u001b[43m,\u001b[49m\u001b[43m \u001b[49m\u001b[43mtime\u001b[49m\u001b[43m,\u001b[49m\u001b[43m \u001b[49m\u001b[43mmem\u001b[49m\u001b[43m,\u001b[49m\u001b[43m \u001b[49m\u001b[43mcpus\u001b[49m\u001b[43m,\u001b[49m\u001b[43m \u001b[49m\u001b[43marray\u001b[49m\u001b[38;5;241;43m=\u001b[39;49m\u001b[38;5;28;43;01mNone\u001b[39;49;00m\u001b[43m,\u001b[49m\u001b[43m \u001b[49m\u001b[43mgpus\u001b[49m\u001b[38;5;241;43m=\u001b[39;49m\u001b[43mgpus\u001b[49m\u001b[43m,\u001b[49m\u001b[43m \u001b[49m\u001b[43mN\u001b[49m\u001b[38;5;241;43m=\u001b[39;49m\u001b[43mN\u001b[49m\u001b[43m,\u001b[49m\u001b[43m \u001b[49m\u001b[43margs\u001b[49m\u001b[38;5;241;43m=\u001b[39;49m\u001b[43margs\u001b[49m\u001b[43m,\u001b[49m\n\u001b[1;32m     79\u001b[0m \u001b[43m           \u001b[49m\u001b[43msh_path\u001b[49m\u001b[38;5;241;43m=\u001b[39;49m\u001b[43msh_path\u001b[49m\u001b[43m,\u001b[49m\u001b[43m \u001b[49m\u001b[43meo_path\u001b[49m\u001b[38;5;241;43m=\u001b[39;49m\u001b[43meo_path\u001b[49m\u001b[43m,\u001b[49m\u001b[43m \u001b[49m\u001b[43mimage\u001b[49m\u001b[38;5;241;43m=\u001b[39;49m\u001b[43mimage\u001b[49m\u001b[43m,\u001b[49m\u001b[43m \u001b[49m\u001b[43mcc_image\u001b[49m\u001b[38;5;241;43m=\u001b[39;49m\u001b[43mcc_image\u001b[49m\u001b[43m,\u001b[49m\n\u001b[1;32m     80\u001b[0m \u001b[43m           \u001b[49m\u001b[43mos_remove\u001b[49m\u001b[38;5;241;43m=\u001b[39;49m\u001b[43mos_remove\u001b[49m\u001b[43m,\u001b[49m\u001b[43m \u001b[49m\u001b[43mpartition\u001b[49m\u001b[38;5;241;43m=\u001b[39;49m\u001b[43mpartition\u001b[49m\u001b[43m,\u001b[49m\u001b[43m \u001b[49m\u001b[43mexclude\u001b[49m\u001b[38;5;241;43m=\u001b[39;49m\u001b[43mexclude\u001b[49m\u001b[43m)\u001b[49m\n",
      "File \u001b[0;32m/aloy/home/ddalton/projects/ClusterSubmit/cluster_submitter/slurm.py:147\u001b[0m, in \u001b[0;36mSlurm._submit_single_job\u001b[0;34m(self, script_py, time, mem, cpus, array, offset, gpus, N, args, sh_path, eo_path, image, cc_image, os_remove, partition, exclude)\u001b[0m\n\u001b[1;32m    145\u001b[0m     eo_path \u001b[38;5;241m=\u001b[39m os\u001b[38;5;241m.\u001b[39mpath\u001b[38;5;241m.\u001b[39mjoin(os\u001b[38;5;241m.\u001b[39mgetcwd(), eo_path)\n\u001b[1;32m    146\u001b[0m     \u001b[38;5;28;01mif\u001b[39;00m \u001b[38;5;129;01mnot\u001b[39;00m os\u001b[38;5;241m.\u001b[39mpath\u001b[38;5;241m.\u001b[39mexists(eo_path):\n\u001b[0;32m--> 147\u001b[0m         \u001b[38;5;28;01mraise\u001b[39;00m \u001b[38;5;167;01mFileNotFoundError\u001b[39;00m(\u001b[38;5;124mf\u001b[39m\u001b[38;5;124m\"\u001b[39m\u001b[38;5;124mPath \u001b[39m\u001b[38;5;132;01m{\u001b[39;00meo_path\u001b[38;5;132;01m}\u001b[39;00m\u001b[38;5;124m does not exist.\u001b[39m\u001b[38;5;124m\"\u001b[39m)\n\u001b[1;32m    149\u001b[0m \u001b[38;5;28;01mif\u001b[39;00m \u001b[38;5;129;01mnot\u001b[39;00m os\u001b[38;5;241m.\u001b[39mpath\u001b[38;5;241m.\u001b[39mexists(image):\n\u001b[1;32m    150\u001b[0m     image \u001b[38;5;241m=\u001b[39m os\u001b[38;5;241m.\u001b[39mpath\u001b[38;5;241m.\u001b[39mjoin(os\u001b[38;5;241m.\u001b[39mgetcwd(), image)\n",
      "\u001b[0;31mFileNotFoundError\u001b[0m: Path /aloy/home/ddalton/projects/ClusterSubmit/documentation/logs/ does not exist."
     ]
    }
   ],
   "source": [
    "# submit job\n",
    "slurm_jb.submit_job(\n",
    "    script_py=\"../scripts/test.py\",  # path to the python script\n",
    "    time=\"0-10:00:00\",  # time in days-hours:minutes:seconds\n",
    "    mem=1,  # memory in GB\n",
    "    cpus=1,  # number of cpus\n",
    "    N=\"test\",  # job name\n",
    "    # gpus=1,\n",
    "    sh_path=\"../scripts\",  # path to save the slurm script\n",
    "    eo_path=\"logs/\",  # path to save the error output\n",
    "    image=\"/aloy/home/ddalton/singularity_images/scgpt.sif\",  # path to the singularity image\n",
    "    os_remove=True,  # remove the slurm script after submission\n",
    "    partition=\"sbnb_cpu_sphr\",  # partition\n",
    ")"
   ]
  },
  {
   "cell_type": "code",
   "execution_count": null,
   "metadata": {},
   "outputs": [],
   "source": [
    "# get job status\n",
    "slurm_jb.get_status()"
   ]
  },
  {
   "cell_type": "code",
   "execution_count": null,
   "metadata": {},
   "outputs": [],
   "source": [
    "# print logs\n",
    "slurm_jb.logs()"
   ]
  },
  {
   "cell_type": "code",
   "execution_count": null,
   "metadata": {},
   "outputs": [],
   "source": [
    "# cancel job just sent\n",
    "slurm_jb.cancel()"
   ]
  },
  {
   "cell_type": "code",
   "execution_count": null,
   "metadata": {},
   "outputs": [],
   "source": [
    "# cancel all job of user\n",
    "slurm_jb.cancel_all()"
   ]
  },
  {
   "cell_type": "code",
   "execution_count": 2,
   "metadata": {},
   "outputs": [
    {
     "name": "stderr",
     "output_type": "stream",
     "text": [
      "2024-11-26 11:22:20,060 :: INFO :: 'Every day is a new adventure. 🚀🌟' - Shreck\n",
      "2024-11-26 11:22:20,080 :: INFO :: Connected (version 2.0, client OpenSSH_8.0)\n",
      "2024-11-26 11:22:20,168 :: INFO :: Authentication (publickey) successful!\n",
      "2024-11-26 11:22:26,307 :: INFO :: Node Information (A: Allocated, T: Total, F: Free):\n",
      "2024-11-26 11:22:26,308 :: INFO :: Node\tCPUs(A/F/O/T)\tMemory(A/T/F)\tGPUs(A/T/F)\tPartitions\n"
     ]
    },
    {
     "name": "stdout",
     "output_type": "stream",
     "text": [
      "irbccn01\t32/32/0/64\t0/0/0GB\t0/0/0\tirb_cpu_iclk\n",
      "irbccn01\t32/32/0/64\t0/0/0GB\t0/0/0\tspot_cpu\n",
      "irbccn02\t21/43/0/64\t0/0/0GB\t0/0/0\tirb_cpu_iclk\n",
      "irbccn02\t21/43/0/64\t0/0/0GB\t0/0/0\tspot_cpu\n",
      "irbccn03\t0/64/0/64\t0/0/0GB\t0/0/0\tirb_cpu_iclk\n",
      "irbccn03\t0/64/0/64\t0/0/0GB\t0/0/0\tspot_cpu\n",
      "irbccn04\t48/16/0/64\t0/0/0GB\t0/0/0\tirb_cpu_iclk\n",
      "irbccn04\t48/16/0/64\t0/0/0GB\t0/0/0\tspot_cpu\n",
      "irbccn05\t8/56/0/64\t0/0/0GB\t0/0/0\tirb_cpu_iclk\n",
      "irbccn05\t8/56/0/64\t0/0/0GB\t0/0/0\tspot_cpu\n",
      "irbccn06\t0/64/0/64\t0/0/0GB\t0/0/0\tirb_cpu_iclk\n",
      "irbccn06\t0/64/0/64\t0/0/0GB\t0/0/0\tspot_cpu\n",
      "irbccn07\t0/64/0/64\t0/0/0GB\t0/0/0\tirb_cpu_iclk\n",
      "irbccn07\t0/64/0/64\t0/0/0GB\t0/0/0\tspot_cpu\n",
      "irbccn09\t6/50/0/56\t0/0/0GB\t0/0/0\tspot_cpu\n",
      "irbccn10\t0/56/0/56\t0/0/0GB\t0/0/0\tspot_cpu\n",
      "irbccn11\t0/56/0/56\t0/0/0GB\t0/0/0\tspot_cpu\n",
      "irbccn12\t0/56/0/56\t0/0/0GB\t0/0/0\tspot_cpu\n",
      "irbccn13\t0/56/0/56\t0/0/0GB\t0/0/0\tspot_cpu\n",
      "irbccn14\t0/56/0/56\t0/0/0GB\t0/0/0\tspot_cpu\n",
      "irbccn15\t0/56/0/56\t0/0/0GB\t0/0/0\tspot_cpu\n",
      "irbccn16\t0/56/0/56\t0/0/0GB\t0/0/0\tsbnb_cpu_zen3\n",
      "irbccn16\t0/56/0/56\t0/0/0GB\t0/0/0\tspot_cpu\n",
      "irbccn17\t40/24/0/64\t0/0/0GB\t0/0/0\tspot_cpu\n",
      "irbccn18\t40/24/0/64\t0/0/0GB\t0/0/0\tspot_cpu\n",
      "irbccn19\t0/64/0/64\t0/0/0GB\t0/0/0\tspot_cpu\n",
      "irbccn20\t0/64/0/64\t0/0/0GB\t0/0/0\tspot_cpu\n",
      "irbccn21\t0/64/0/64\t0/0/0GB\t0/0/0\tspot_cpu\n",
      "irbccn22\t0/64/0/64\t0/0/0GB\t0/0/0\tspot_cpu\n",
      "irbccn23\t14/178/0/192\t0/0/0GB\t0/0/0\tspot_cpu\n",
      "irbccn24\t0/192/0/192\t0/0/0GB\t0/0/0\tspot_cpu\n",
      "irbccn25\t0/192/0/192\t0/0/0GB\t0/0/0\tspot_cpu\n",
      "irbccn26\t0/192/0/192\t0/0/0GB\t0/0/0\tspot_cpu\n",
      "irbccn27\t0/192/0/192\t0/0/0GB\t0/0/0\tspot_cpu\n",
      "irbccn28\t0/192/0/192\t0/0/0GB\t0/0/0\tspot_cpu\n",
      "irbccn29\t0/192/0/192\t0/0/0GB\t0/0/0\tspot_cpu\n",
      "irbccn30\t0/192/0/192\t0/0/0GB\t0/0/0\tspot_cpu\n",
      "irbccn31\t0/192/0/192\t0/0/0GB\t0/0/0\tspot_cpu\n",
      "irbccn32\t0/192/0/192\t0/0/0GB\t0/0/0\tspot_cpu\n",
      "irbccn33\t0/192/0/192\t0/0/0GB\t0/0/0\tspot_cpu\n",
      "irbccn34\t0/192/0/192\t0/0/0GB\t0/0/0\tspot_cpu\n",
      "irbccn35\t0/192/0/192\t0/0/0GB\t0/0/0\tspot_cpu\n",
      "irbccn36\t0/192/0/192\t0/0/0GB\t0/0/0\tspot_cpu\n",
      "irbccn37\t0/192/0/192\t0/0/0GB\t0/0/0\tspot_cpu\n",
      "irbccn38\t0/192/0/192\t0/0/0GB\t0/0/0\tspot_cpu\n",
      "irbccn39\t0/192/0/192\t0/0/0GB\t0/0/0\tspot_cpu\n",
      "irbccn40\t0/192/0/192\t0/0/0GB\t0/0/0\tspot_cpu\n",
      "irbccn41\t0/64/0/64\t0/0/0GB\t0/0/0\tsbnb_cpu_sphr\n",
      "irbccn41\t0/64/0/64\t0/0/0GB\t0/0/0\tspot_cpu\n",
      "irbccn42\t0/64/0/64\t0/0/0GB\t0/0/0\tsbnb_cpu_sphr\n",
      "irbccn42\t0/64/0/64\t0/0/0GB\t0/0/0\tspot_cpu\n",
      "irbccn43\t64/0/0/64\t0/0/0GB\t0/0/0\tirb_cpu_sphr*\n",
      "irbccn43\t64/0/0/64\t0/0/0GB\t0/0/0\tspot_cpu\n",
      "irbccn44\t0/64/0/64\t0/0/0GB\t0/0/0\tirb_cpu_sphr*\n",
      "irbccn44\t0/64/0/64\t0/0/0GB\t0/0/0\tspot_cpu\n",
      "irbccn45\t0/64/0/64\t0/0/0GB\t0/0/0\tirb_cpu_sphr*\n",
      "irbccn45\t0/64/0/64\t0/0/0GB\t0/0/0\tspot_cpu\n",
      "irbccn46\t0/64/0/64\t0/0/0GB\t0/0/0\tirb_cpu_sphr*\n",
      "irbccn46\t0/64/0/64\t0/0/0GB\t0/0/0\tspot_cpu\n",
      "irbccn47\t0/64/0/64\t0/0/0GB\t0/0/0\tirb_cpu_sphr*\n",
      "irbccn47\t0/64/0/64\t0/0/0GB\t0/0/0\tspot_cpu\n",
      "irbccn48\t0/64/0/64\t0/0/0GB\t0/0/0\tirb_cpu_sphr*\n",
      "irbccn48\t0/64/0/64\t0/0/0GB\t0/0/0\tspot_cpu\n",
      "irbccn49\t1/63/0/64\t0/0/0GB\t0/0/0\tirb_cpu_sphr*\n",
      "irbccn49\t1/63/0/64\t0/0/0GB\t0/0/0\tspot_cpu\n",
      "irbccn50\t40/24/0/64\t0/0/0GB\t0/0/0\tspot_cpu\n",
      "irbccn51\t60/132/0/192\t0/0/0GB\t0/0/0\tspot_cpu\n",
      "irbccn52\t0/192/0/192\t0/0/0GB\t0/0/0\tirb_cpu_zen4\n",
      "irbccn52\t0/192/0/192\t0/0/0GB\t0/0/0\tspot_cpu\n",
      "irbccn53\t0/192/0/192\t0/0/0GB\t0/0/0\tirb_cpu_zen4\n",
      "irbccn53\t0/192/0/192\t0/0/0GB\t0/0/0\tspot_cpu\n",
      "irbgcn01\t0/32/0/32\t0/0/0GB\t0/0/0\tirb_gpu_3090\n",
      "irbgcn01\t0/32/0/32\t0/0/0GB\t0/0/0\tspot_gpu\n",
      "irbgcn02\t6/74/0/80\t0/0/0GB\t0/8/8\tspot_gpu\n",
      "irbgcn03\t0/0/80/80\t0/0/0GB\t0/6/6\tspot_gpu\n",
      "irbgcn04\t20/20/0/40\t0/0/0GB\t0/0/0\tspot_gpu\n",
      "irbgcn05\t6/58/0/64\t0/0/0GB\t0/0/0\tspot_gpu\n",
      "irbgcn06\t0/32/0/32\t0/0/0GB\t0/0/0\tspot_gpu\n",
      "irbgcn07\t0/32/0/32\t0/0/0GB\t0/0/0\tsbnb_gpu_3090\n",
      "irbgcn07\t0/32/0/32\t0/0/0GB\t0/0/0\tspot_gpu\n"
     ]
    }
   ],
   "source": [
    "# get info on nodes\n",
    "slurm_jb.get_info()"
   ]
  },
  {
   "cell_type": "markdown",
   "metadata": {},
   "source": [
    "## Array Job Example"
   ]
  },
  {
   "cell_type": "code",
   "execution_count": null,
   "metadata": {},
   "outputs": [],
   "source": []
  }
 ],
 "metadata": {
  "kernelspec": {
   "display_name": "xgboost-env",
   "language": "python",
   "name": "python3"
  },
  "language_info": {
   "codemirror_mode": {
    "name": "ipython",
    "version": 3
   },
   "file_extension": ".py",
   "mimetype": "text/x-python",
   "name": "python",
   "nbconvert_exporter": "python",
   "pygments_lexer": "ipython3",
   "version": "3.12.3"
  }
 },
 "nbformat": 4,
 "nbformat_minor": 2
}
