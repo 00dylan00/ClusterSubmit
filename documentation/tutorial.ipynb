{
 "cells": [
  {
   "cell_type": "markdown",
   "metadata": {},
   "source": [
    "# Tutorial Notebook"
   ]
  },
  {
   "cell_type": "markdown",
   "metadata": {
    "vscode": {
     "languageId": "plaintext"
    }
   },
   "source": [
    "## SLURM Jobs"
   ]
  },
  {
   "cell_type": "code",
   "execution_count": 11,
   "metadata": {},
   "outputs": [],
   "source": [
    "\"\"\"load personal config\n",
    "this can be done here directly - or setting up the config file!\n",
    "\n",
    "slurm_config = {\n",
    "    \"host\": \"your_slurm_host\",\n",
    "    \"username\": \"your_username\",\n",
    "    \"password\": \"your_password\"\n",
    "}\n",
    "\"\"\"\n",
    "\n",
    "import personal_config\n",
    "import sys, os"
   ]
  },
  {
   "cell_type": "code",
   "execution_count": 12,
   "metadata": {},
   "outputs": [],
   "source": [
    "# Get the current working directory\n",
    "current_dir = os.getcwd()\n",
    "\n",
    "# Assuming 'documentation' is one level deep from the project root\n",
    "project_root = os.path.abspath(os.path.join(current_dir, \"..\"))\n",
    "\n",
    "# Add the project root to the system path\n",
    "if project_root not in sys.path:\n",
    "    sys.path.append(project_root)\n",
    "\n",
    "\n",
    "# Import the job submission classes\n",
    "from cluster_submitter.sungrid import Sungrid\n",
    "from cluster_submitter.slurm import Slurm\n",
    "\n",
    "# Initialize Slurm for Slurm\n",
    "slurm_job_manager = Slurm(**personal_config.slurm_config)\n",
    "\n",
    "# Define job parameters for Slurm\n",
    "script_path_slurm = \"../scripts/dialogue.py 1 2 3\"  # Replace with your script path\n",
    "job_time = \"01:00:00\"  # Job time in HH:MM:SS format\n",
    "memory_slurm = 1  # Memory in GB\n",
    "num_cpus_slurm = 1  # Number of CPUs requested\n",
    "sh_path_slurm = \"../scripts\"  # Replace with your path"
   ]
  },
  {
   "cell_type": "code",
   "execution_count": 10,
   "metadata": {},
   "outputs": [
    {
     "name": "stderr",
     "output_type": "stream",
     "text": [
      "2024-06-13 14:58:51,273 :: INFO :: 'You can conquer any challenge. 🐉💪' - Shreck\n",
      "2024-06-13 14:58:51,294 :: INFO :: Connected (version 2.0, client OpenSSH_8.0)\n",
      "2024-06-13 14:58:51,430 :: INFO :: Authentication (password) successful!\n",
      "2024-06-13 14:58:51,431 :: INFO :: Running command: cd /home/sbnb/ddalton/projects/ClusterSubmit/documentation; sbatch ../scripts/job_8b59.sh ../scripts/dialogue.py 1 2 3 \n"
     ]
    },
    {
     "name": "stdout",
     "output_type": "stream",
     "text": [
      "../scripts\n",
      "../scripts\n"
     ]
    },
    {
     "name": "stderr",
     "output_type": "stream",
     "text": [
      "2024-06-13 14:58:51,674 :: INFO :: Submitted batch job 370925\n",
      "\n",
      "2024-06-13 14:58:51,674 :: INFO :: /home/sbnb/ddalton/.bashrc: line 1: /apps/manual/Singularity/3.7.3/etc/profile: No such file or directory\n",
      "\n",
      "2024-06-13 14:58:51,676 :: INFO :: 'True love is worth the journey. 💖🏰' - Shreck\n",
      "2024-06-13 14:58:51,691 :: INFO :: Connected (version 2.0, client OpenSSH_8.0)\n",
      "2024-06-13 14:58:51,832 :: INFO :: Authentication (password) successful!\n",
      "2024-06-13 14:58:51,833 :: INFO :: Running command: cd /home/sbnb/ddalton/projects/ClusterSubmit/documentation; sbatch ../scripts/job_e67c.sh ../scripts/dialogue.py 1 2 3 \n"
     ]
    },
    {
     "name": "stdout",
     "output_type": "stream",
     "text": [
      "../scripts\n",
      "../scripts\n"
     ]
    },
    {
     "name": "stderr",
     "output_type": "stream",
     "text": [
      "2024-06-13 14:58:51,943 :: INFO :: Submitted batch job 370926\n",
      "\n",
      "2024-06-13 14:58:51,944 :: INFO :: /home/sbnb/ddalton/.bashrc: line 1: /apps/manual/Singularity/3.7.3/etc/profile: No such file or directory\n",
      "\n",
      "2024-06-13 14:58:51,946 :: INFO :: 'Every day is a chance to start anew. 🕛✨' - Shreck\n",
      "2024-06-13 14:58:51,964 :: INFO :: Connected (version 2.0, client OpenSSH_8.0)\n",
      "2024-06-13 14:58:52,099 :: INFO :: Authentication (password) successful!\n",
      "2024-06-13 14:58:52,099 :: INFO :: Running command: cd /home/sbnb/ddalton/projects/ClusterSubmit/documentation; sbatch ../scripts/job_feb3.sh ../scripts/dialogue.py 1 2 3 \n"
     ]
    },
    {
     "name": "stdout",
     "output_type": "stream",
     "text": [
      "../scripts\n",
      "../scripts\n"
     ]
    },
    {
     "name": "stderr",
     "output_type": "stream",
     "text": [
      "2024-06-13 14:58:52,219 :: INFO :: Submitted batch job 370927\n",
      "\n",
      "2024-06-13 14:58:52,219 :: INFO :: /home/sbnb/ddalton/.bashrc: line 1: /apps/manual/Singularity/3.7.3/etc/profile: No such file or directory\n",
      "\n",
      "2024-06-13 14:58:52,221 :: INFO :: 'Believe in the beauty of your dreams. 🌟💚' - Shreck\n",
      "2024-06-13 14:58:52,239 :: INFO :: Connected (version 2.0, client OpenSSH_8.0)\n",
      "2024-06-13 14:58:52,374 :: INFO :: Authentication (password) successful!\n",
      "2024-06-13 14:58:52,375 :: INFO :: Running command: cd /home/sbnb/ddalton/projects/ClusterSubmit/documentation; sbatch ../scripts/job_15e9.sh ../scripts/dialogue.py 1 2 3 \n"
     ]
    },
    {
     "name": "stdout",
     "output_type": "stream",
     "text": [
      "../scripts\n",
      "../scripts\n"
     ]
    },
    {
     "name": "stderr",
     "output_type": "stream",
     "text": [
      "2024-06-13 14:58:52,595 :: INFO :: Submitted batch job 370928\n",
      "\n",
      "2024-06-13 14:58:52,596 :: INFO :: /home/sbnb/ddalton/.bashrc: line 1: /apps/manual/Singularity/3.7.3/etc/profile: No such file or directory\n",
      "\n",
      "2024-06-13 14:58:52,598 :: INFO :: 'You are stronger than any dragon. 🐉💪' - Shreck\n",
      "2024-06-13 14:58:52,619 :: INFO :: Connected (version 2.0, client OpenSSH_8.0)\n",
      "2024-06-13 14:58:52,754 :: INFO :: Authentication (password) successful!\n",
      "2024-06-13 14:58:52,754 :: INFO :: Running command: cd /home/sbnb/ddalton/projects/ClusterSubmit/documentation; sbatch ../scripts/job_7076.sh ../scripts/dialogue.py 1 2 3 \n"
     ]
    },
    {
     "name": "stdout",
     "output_type": "stream",
     "text": [
      "../scripts\n",
      "../scripts\n"
     ]
    },
    {
     "name": "stderr",
     "output_type": "stream",
     "text": [
      "2024-06-13 14:58:52,887 :: INFO :: Submitted batch job 370929\n",
      "\n",
      "2024-06-13 14:58:52,887 :: INFO :: /home/sbnb/ddalton/.bashrc: line 1: /apps/manual/Singularity/3.7.3/etc/profile: No such file or directory\n",
      "\n",
      "2024-06-13 14:58:52,889 :: INFO :: 'True friends stick together through thick and thin. 👫💫' - Shreck\n",
      "2024-06-13 14:58:52,910 :: INFO :: Connected (version 2.0, client OpenSSH_8.0)\n",
      "2024-06-13 14:58:53,045 :: INFO :: Authentication (password) successful!\n",
      "2024-06-13 14:58:53,045 :: INFO :: Running command: cd /home/sbnb/ddalton/projects/ClusterSubmit/documentation; sbatch ../scripts/job_cd48.sh ../scripts/dialogue.py 1 2 3 \n"
     ]
    },
    {
     "name": "stdout",
     "output_type": "stream",
     "text": [
      "../scripts\n",
      "../scripts\n"
     ]
    },
    {
     "name": "stderr",
     "output_type": "stream",
     "text": [
      "2024-06-13 14:58:53,163 :: INFO :: Submitted batch job 370930\n",
      "\n",
      "2024-06-13 14:58:53,163 :: INFO :: /home/sbnb/ddalton/.bashrc: line 1: /apps/manual/Singularity/3.7.3/etc/profile: No such file or directory\n",
      "\n",
      "2024-06-13 14:58:53,165 :: INFO :: 'You are more than you think you are. 🌟💚' - Shreck\n",
      "2024-06-13 14:58:53,186 :: INFO :: Connected (version 2.0, client OpenSSH_8.0)\n",
      "2024-06-13 14:58:53,321 :: INFO :: Authentication (password) successful!\n",
      "2024-06-13 14:58:53,322 :: INFO :: Running command: cd /home/sbnb/ddalton/projects/ClusterSubmit/documentation; sbatch ../scripts/job_ff2e.sh ../scripts/dialogue.py 1 2 3 \n"
     ]
    },
    {
     "name": "stdout",
     "output_type": "stream",
     "text": [
      "../scripts\n",
      "../scripts\n"
     ]
    },
    {
     "name": "stderr",
     "output_type": "stream",
     "text": [
      "2024-06-13 14:58:53,441 :: INFO :: Submitted batch job 370931\n",
      "\n",
      "2024-06-13 14:58:53,442 :: INFO :: /home/sbnb/ddalton/.bashrc: line 1: /apps/manual/Singularity/3.7.3/etc/profile: No such file or directory\n",
      "\n",
      "2024-06-13 14:58:53,447 :: INFO :: 'You are more than you think you are. 🌟💚' - Shreck\n",
      "2024-06-13 14:58:53,472 :: INFO :: Connected (version 2.0, client OpenSSH_8.0)\n",
      "2024-06-13 14:58:53,608 :: INFO :: Authentication (password) successful!\n",
      "2024-06-13 14:58:53,609 :: INFO :: Running command: cd /home/sbnb/ddalton/projects/ClusterSubmit/documentation; sbatch ../scripts/job_9995.sh ../scripts/dialogue.py 1 2 3 \n"
     ]
    },
    {
     "name": "stdout",
     "output_type": "stream",
     "text": [
      "../scripts\n",
      "../scripts\n"
     ]
    },
    {
     "name": "stderr",
     "output_type": "stream",
     "text": [
      "2024-06-13 14:58:53,730 :: INFO :: Submitted batch job 370932\n",
      "\n",
      "2024-06-13 14:58:53,730 :: INFO :: /home/sbnb/ddalton/.bashrc: line 1: /apps/manual/Singularity/3.7.3/etc/profile: No such file or directory\n",
      "\n",
      "2024-06-13 14:58:53,735 :: INFO :: 'Adventure awaits beyond the swamp. 🌍✨' - Shreck\n",
      "2024-06-13 14:58:53,758 :: INFO :: Connected (version 2.0, client OpenSSH_8.0)\n",
      "2024-06-13 14:58:53,897 :: INFO :: Authentication (password) successful!\n",
      "2024-06-13 14:58:53,898 :: INFO :: Running command: cd /home/sbnb/ddalton/projects/ClusterSubmit/documentation; sbatch ../scripts/job_70e4.sh ../scripts/dialogue.py 1 2 3 \n"
     ]
    },
    {
     "name": "stdout",
     "output_type": "stream",
     "text": [
      "../scripts\n",
      "../scripts\n"
     ]
    },
    {
     "name": "stderr",
     "output_type": "stream",
     "text": [
      "2024-06-13 14:58:54,019 :: INFO :: Submitted batch job 370933\n",
      "\n",
      "2024-06-13 14:58:54,019 :: INFO :: /home/sbnb/ddalton/.bashrc: line 1: /apps/manual/Singularity/3.7.3/etc/profile: No such file or directory\n",
      "\n",
      "2024-06-13 14:58:54,024 :: INFO :: 'You are capable of great things. 🌟💚' - Shreck\n",
      "2024-06-13 14:58:54,045 :: INFO :: Connected (version 2.0, client OpenSSH_8.0)\n",
      "2024-06-13 14:58:54,178 :: INFO :: Authentication (password) successful!\n",
      "2024-06-13 14:58:54,179 :: INFO :: Running command: cd /home/sbnb/ddalton/projects/ClusterSubmit/documentation; sbatch ../scripts/job_63db.sh ../scripts/dialogue.py 1 2 3 \n"
     ]
    },
    {
     "name": "stdout",
     "output_type": "stream",
     "text": [
      "../scripts\n",
      "../scripts\n"
     ]
    },
    {
     "name": "stderr",
     "output_type": "stream",
     "text": [
      "2024-06-13 14:58:54,303 :: INFO :: Submitted batch job 370934\n",
      "\n",
      "2024-06-13 14:58:54,303 :: INFO :: /home/sbnb/ddalton/.bashrc: line 1: /apps/manual/Singularity/3.7.3/etc/profile: No such file or directory\n",
      "\n",
      "2024-06-13 14:58:54,305 :: INFO :: 'You can change your story. 📖🔄' - Shreck\n",
      "2024-06-13 14:58:54,324 :: INFO :: Connected (version 2.0, client OpenSSH_8.0)\n",
      "2024-06-13 14:58:54,458 :: INFO :: Authentication (password) successful!\n",
      "2024-06-13 14:58:54,459 :: INFO :: Running command: cd /home/sbnb/ddalton/projects/ClusterSubmit/documentation; sbatch ../scripts/job_b42b.sh ../scripts/dialogue.py 1 2 3 \n"
     ]
    },
    {
     "name": "stdout",
     "output_type": "stream",
     "text": [
      "../scripts\n",
      "../scripts\n"
     ]
    },
    {
     "name": "stderr",
     "output_type": "stream",
     "text": [
      "2024-06-13 14:58:54,574 :: INFO :: Submitted batch job 370935\n",
      "\n",
      "2024-06-13 14:58:54,574 :: INFO :: /home/sbnb/ddalton/.bashrc: line 1: /apps/manual/Singularity/3.7.3/etc/profile: No such file or directory\n",
      "\n",
      "2024-06-13 14:58:54,576 :: INFO :: 'Find the fairy tale in your everyday life. 📖🌟' - Shreck\n",
      "2024-06-13 14:58:54,595 :: INFO :: Connected (version 2.0, client OpenSSH_8.0)\n",
      "2024-06-13 14:58:54,734 :: INFO :: Authentication (password) successful!\n",
      "2024-06-13 14:58:54,735 :: INFO :: Running command: cd /home/sbnb/ddalton/projects/ClusterSubmit/documentation; sbatch ../scripts/job_e3a8.sh ../scripts/dialogue.py 1 2 3 \n"
     ]
    },
    {
     "name": "stdout",
     "output_type": "stream",
     "text": [
      "../scripts\n",
      "../scripts\n"
     ]
    },
    {
     "name": "stderr",
     "output_type": "stream",
     "text": [
      "2024-06-13 14:58:54,853 :: INFO :: Submitted batch job 370936\n",
      "\n",
      "2024-06-13 14:58:54,854 :: INFO :: /home/sbnb/ddalton/.bashrc: line 1: /apps/manual/Singularity/3.7.3/etc/profile: No such file or directory\n",
      "\n",
      "2024-06-13 14:58:54,863 :: INFO :: 'Never stop believing in fairy tales. 🏰🌟' - Shreck\n",
      "2024-06-13 14:58:54,883 :: INFO :: Connected (version 2.0, client OpenSSH_8.0)\n",
      "2024-06-13 14:58:55,016 :: INFO :: Authentication (password) successful!\n",
      "2024-06-13 14:58:55,017 :: INFO :: Running command: cd /home/sbnb/ddalton/projects/ClusterSubmit/documentation; sbatch ../scripts/job_eaea.sh ../scripts/dialogue.py 1 2 3 \n"
     ]
    },
    {
     "name": "stdout",
     "output_type": "stream",
     "text": [
      "../scripts\n",
      "../scripts\n"
     ]
    },
    {
     "name": "stderr",
     "output_type": "stream",
     "text": [
      "2024-06-13 14:58:55,131 :: INFO :: Submitted batch job 370937\n",
      "\n",
      "2024-06-13 14:58:55,131 :: INFO :: /home/sbnb/ddalton/.bashrc: line 1: /apps/manual/Singularity/3.7.3/etc/profile: No such file or directory\n",
      "\n",
      "2024-06-13 14:58:55,136 :: INFO :: 'Embrace the journey, not just the destination. 🛤✨' - Shreck\n",
      "2024-06-13 14:58:55,155 :: INFO :: Connected (version 2.0, client OpenSSH_8.0)\n",
      "2024-06-13 14:58:55,289 :: INFO :: Authentication (password) successful!\n",
      "2024-06-13 14:58:55,290 :: INFO :: Running command: cd /home/sbnb/ddalton/projects/ClusterSubmit/documentation; sbatch ../scripts/job_0bbf.sh ../scripts/dialogue.py 1 2 3 \n"
     ]
    },
    {
     "name": "stdout",
     "output_type": "stream",
     "text": [
      "../scripts\n",
      "../scripts\n"
     ]
    },
    {
     "name": "stderr",
     "output_type": "stream",
     "text": [
      "2024-06-13 14:58:55,410 :: INFO :: Submitted batch job 370938\n",
      "\n",
      "2024-06-13 14:58:55,411 :: INFO :: /home/sbnb/ddalton/.bashrc: line 1: /apps/manual/Singularity/3.7.3/etc/profile: No such file or directory\n",
      "\n",
      "2024-06-13 14:58:55,417 :: INFO :: 'Never stop believing in fairy tales. 🏰🌟' - Shreck\n",
      "2024-06-13 14:58:55,435 :: INFO :: Connected (version 2.0, client OpenSSH_8.0)\n",
      "2024-06-13 14:58:55,571 :: INFO :: Authentication (password) successful!\n",
      "2024-06-13 14:58:55,572 :: INFO :: Running command: cd /home/sbnb/ddalton/projects/ClusterSubmit/documentation; sbatch ../scripts/job_5479.sh ../scripts/dialogue.py 1 2 3 \n"
     ]
    },
    {
     "name": "stdout",
     "output_type": "stream",
     "text": [
      "../scripts\n",
      "../scripts\n"
     ]
    },
    {
     "name": "stderr",
     "output_type": "stream",
     "text": [
      "2024-06-13 14:58:55,691 :: INFO :: Submitted batch job 370939\n",
      "\n",
      "2024-06-13 14:58:55,692 :: INFO :: /home/sbnb/ddalton/.bashrc: line 1: /apps/manual/Singularity/3.7.3/etc/profile: No such file or directory\n",
      "\n",
      "2024-06-13 14:58:55,694 :: INFO :: 'Embrace your inner ogre. 💪💚' - Shreck\n",
      "2024-06-13 14:58:55,713 :: INFO :: Connected (version 2.0, client OpenSSH_8.0)\n",
      "2024-06-13 14:58:55,852 :: INFO :: Authentication (password) successful!\n",
      "2024-06-13 14:58:55,853 :: INFO :: Running command: cd /home/sbnb/ddalton/projects/ClusterSubmit/documentation; sbatch ../scripts/job_a6c2.sh ../scripts/dialogue.py 1 2 3 \n"
     ]
    },
    {
     "name": "stdout",
     "output_type": "stream",
     "text": [
      "../scripts\n",
      "../scripts\n"
     ]
    },
    {
     "name": "stderr",
     "output_type": "stream",
     "text": [
      "2024-06-13 14:58:55,974 :: INFO :: Submitted batch job 370940\n",
      "\n",
      "2024-06-13 14:58:55,975 :: INFO :: /home/sbnb/ddalton/.bashrc: line 1: /apps/manual/Singularity/3.7.3/etc/profile: No such file or directory\n",
      "\n",
      "2024-06-13 14:58:55,977 :: INFO :: 'True friends stick together through thick and thin. 👫💫' - Shreck\n",
      "2024-06-13 14:58:55,997 :: INFO :: Connected (version 2.0, client OpenSSH_8.0)\n"
     ]
    },
    {
     "name": "stdout",
     "output_type": "stream",
     "text": [
      "../scripts\n",
      "../scripts\n"
     ]
    },
    {
     "name": "stderr",
     "output_type": "stream",
     "text": [
      "2024-06-13 14:58:56,200 :: INFO :: Authentication (password) successful!\n",
      "2024-06-13 14:58:56,201 :: INFO :: Running command: cd /home/sbnb/ddalton/projects/ClusterSubmit/documentation; sbatch ../scripts/job_efbb.sh ../scripts/dialogue.py 1 2 3 \n",
      "2024-06-13 14:58:56,323 :: INFO :: Submitted batch job 370941\n",
      "\n",
      "2024-06-13 14:58:56,323 :: INFO :: /home/sbnb/ddalton/.bashrc: line 1: /apps/manual/Singularity/3.7.3/etc/profile: No such file or directory\n",
      "\n",
      "2024-06-13 14:58:56,326 :: INFO :: 'Find joy in your own story. 📖🌟' - Shreck\n",
      "2024-06-13 14:58:56,345 :: INFO :: Connected (version 2.0, client OpenSSH_8.0)\n",
      "2024-06-13 14:58:56,481 :: INFO :: Authentication (password) successful!\n",
      "2024-06-13 14:58:56,481 :: INFO :: Running command: cd /home/sbnb/ddalton/projects/ClusterSubmit/documentation; sbatch ../scripts/job_ad29.sh ../scripts/dialogue.py 1 2 3 \n"
     ]
    },
    {
     "name": "stdout",
     "output_type": "stream",
     "text": [
      "../scripts\n",
      "../scripts\n"
     ]
    },
    {
     "name": "stderr",
     "output_type": "stream",
     "text": [
      "2024-06-13 14:58:56,599 :: INFO :: Submitted batch job 370942\n",
      "\n",
      "2024-06-13 14:58:56,599 :: INFO :: /home/sbnb/ddalton/.bashrc: line 1: /apps/manual/Singularity/3.7.3/etc/profile: No such file or directory\n",
      "\n",
      "2024-06-13 14:58:56,601 :: INFO :: 'You are the hero of your fairy tale. 🦸‍♂️🌟' - Shreck\n",
      "2024-06-13 14:58:56,622 :: INFO :: Connected (version 2.0, client OpenSSH_8.0)\n",
      "2024-06-13 14:58:56,757 :: INFO :: Authentication (password) successful!\n",
      "2024-06-13 14:58:56,758 :: INFO :: Running command: cd /home/sbnb/ddalton/projects/ClusterSubmit/documentation; sbatch ../scripts/job_e2ab.sh ../scripts/dialogue.py 1 2 3 \n"
     ]
    },
    {
     "name": "stdout",
     "output_type": "stream",
     "text": [
      "../scripts\n",
      "../scripts\n"
     ]
    },
    {
     "name": "stderr",
     "output_type": "stream",
     "text": [
      "2024-06-13 14:58:56,877 :: INFO :: Submitted batch job 370943\n",
      "\n",
      "2024-06-13 14:58:56,877 :: INFO :: /home/sbnb/ddalton/.bashrc: line 1: /apps/manual/Singularity/3.7.3/etc/profile: No such file or directory\n",
      "\n",
      "2024-06-13 14:58:56,880 :: INFO :: 'You are more than you think you are. 🌟💚' - Shreck\n",
      "2024-06-13 14:58:56,898 :: INFO :: Connected (version 2.0, client OpenSSH_8.0)\n",
      "2024-06-13 14:58:57,032 :: INFO :: Authentication (password) successful!\n",
      "2024-06-13 14:58:57,033 :: INFO :: Running command: cd /home/sbnb/ddalton/projects/ClusterSubmit/documentation; sbatch ../scripts/job_4bef.sh ../scripts/dialogue.py 1 2 3 \n"
     ]
    },
    {
     "name": "stdout",
     "output_type": "stream",
     "text": [
      "../scripts\n",
      "../scripts\n"
     ]
    },
    {
     "name": "stderr",
     "output_type": "stream",
     "text": [
      "2024-06-13 14:58:57,154 :: INFO :: Submitted batch job 370944\n",
      "\n",
      "2024-06-13 14:58:57,155 :: INFO :: /home/sbnb/ddalton/.bashrc: line 1: /apps/manual/Singularity/3.7.3/etc/profile: No such file or directory\n",
      "\n",
      "2024-06-13 14:58:57,156 :: INFO :: 'True love is worth the journey. 💖🏰' - Shreck\n",
      "2024-06-13 14:58:57,177 :: INFO :: Connected (version 2.0, client OpenSSH_8.0)\n",
      "2024-06-13 14:58:57,313 :: INFO :: Authentication (password) successful!\n",
      "2024-06-13 14:58:57,313 :: INFO :: Running command: cd /home/sbnb/ddalton/projects/ClusterSubmit/documentation; sbatch ../scripts/job_77f4.sh ../scripts/dialogue.py 1 2 3 \n"
     ]
    },
    {
     "name": "stdout",
     "output_type": "stream",
     "text": [
      "../scripts\n",
      "../scripts\n"
     ]
    },
    {
     "name": "stderr",
     "output_type": "stream",
     "text": [
      "2024-06-13 14:58:57,431 :: INFO :: Submitted batch job 370945\n",
      "\n",
      "2024-06-13 14:58:57,431 :: INFO :: /home/sbnb/ddalton/.bashrc: line 1: /apps/manual/Singularity/3.7.3/etc/profile: No such file or directory\n",
      "\n",
      "2024-06-13 14:58:57,433 :: INFO :: 'Your heart is your greatest treasure. 💖🏴‍☠️' - Shreck\n",
      "2024-06-13 14:58:57,454 :: INFO :: Connected (version 2.0, client OpenSSH_8.0)\n",
      "2024-06-13 14:58:57,588 :: INFO :: Authentication (password) successful!\n",
      "2024-06-13 14:58:57,589 :: INFO :: Running command: cd /home/sbnb/ddalton/projects/ClusterSubmit/documentation; sbatch ../scripts/job_d51d.sh ../scripts/dialogue.py 1 2 3 \n"
     ]
    },
    {
     "name": "stdout",
     "output_type": "stream",
     "text": [
      "../scripts\n",
      "../scripts\n"
     ]
    },
    {
     "name": "stderr",
     "output_type": "stream",
     "text": [
      "2024-06-13 14:58:57,707 :: INFO :: Submitted batch job 370946\n",
      "\n",
      "2024-06-13 14:58:57,707 :: INFO :: /home/sbnb/ddalton/.bashrc: line 1: /apps/manual/Singularity/3.7.3/etc/profile: No such file or directory\n",
      "\n",
      "2024-06-13 14:58:57,709 :: INFO :: 'Every day is a new chapter. 📖✨' - Shreck\n",
      "2024-06-13 14:58:57,731 :: INFO :: Connected (version 2.0, client OpenSSH_8.0)\n",
      "2024-06-13 14:58:57,865 :: INFO :: Authentication (password) successful!\n",
      "2024-06-13 14:58:57,866 :: INFO :: Running command: cd /home/sbnb/ddalton/projects/ClusterSubmit/documentation; sbatch ../scripts/job_00e5.sh ../scripts/dialogue.py 1 2 3 \n"
     ]
    },
    {
     "name": "stdout",
     "output_type": "stream",
     "text": [
      "../scripts\n",
      "../scripts\n"
     ]
    },
    {
     "name": "stderr",
     "output_type": "stream",
     "text": [
      "2024-06-13 14:58:57,984 :: INFO :: Submitted batch job 370947\n",
      "\n",
      "2024-06-13 14:58:57,985 :: INFO :: /home/sbnb/ddalton/.bashrc: line 1: /apps/manual/Singularity/3.7.3/etc/profile: No such file or directory\n",
      "\n",
      "2024-06-13 14:58:57,986 :: INFO :: 'You can conquer any obstacle. 🐉💪' - Shreck\n",
      "2024-06-13 14:58:58,007 :: INFO :: Connected (version 2.0, client OpenSSH_8.0)\n",
      "2024-06-13 14:58:58,144 :: INFO :: Authentication (password) successful!\n",
      "2024-06-13 14:58:58,145 :: INFO :: Running command: cd /home/sbnb/ddalton/projects/ClusterSubmit/documentation; sbatch ../scripts/job_445b.sh ../scripts/dialogue.py 1 2 3 \n"
     ]
    },
    {
     "name": "stdout",
     "output_type": "stream",
     "text": [
      "../scripts\n",
      "../scripts\n"
     ]
    },
    {
     "name": "stderr",
     "output_type": "stream",
     "text": [
      "2024-06-13 14:58:58,266 :: INFO :: Submitted batch job 370948\n",
      "\n",
      "2024-06-13 14:58:58,267 :: INFO :: /home/sbnb/ddalton/.bashrc: line 1: /apps/manual/Singularity/3.7.3/etc/profile: No such file or directory\n",
      "\n",
      "2024-06-13 14:58:58,271 :: INFO :: 'True friends are a treasure. 🤝💫' - Shreck\n",
      "2024-06-13 14:58:58,290 :: INFO :: Connected (version 2.0, client OpenSSH_8.0)\n",
      "2024-06-13 14:58:58,422 :: INFO :: Authentication (password) successful!\n",
      "2024-06-13 14:58:58,423 :: INFO :: Running command: cd /home/sbnb/ddalton/projects/ClusterSubmit/documentation; sbatch ../scripts/job_4faa.sh ../scripts/dialogue.py 1 2 3 \n"
     ]
    },
    {
     "name": "stdout",
     "output_type": "stream",
     "text": [
      "../scripts\n",
      "../scripts\n"
     ]
    },
    {
     "name": "stderr",
     "output_type": "stream",
     "text": [
      "2024-06-13 14:58:58,540 :: INFO :: Submitted batch job 370949\n",
      "\n",
      "2024-06-13 14:58:58,540 :: INFO :: /home/sbnb/ddalton/.bashrc: line 1: /apps/manual/Singularity/3.7.3/etc/profile: No such file or directory\n",
      "\n",
      "2024-06-13 14:58:58,542 :: INFO :: 'Beauty is in the eye of the ogre. 👀💚' - Shreck\n",
      "2024-06-13 14:58:58,561 :: INFO :: Connected (version 2.0, client OpenSSH_8.0)\n",
      "2024-06-13 14:58:58,697 :: INFO :: Authentication (password) successful!\n",
      "2024-06-13 14:58:58,698 :: INFO :: Running command: cd /home/sbnb/ddalton/projects/ClusterSubmit/documentation; sbatch ../scripts/job_3566.sh ../scripts/dialogue.py 1 2 3 \n"
     ]
    },
    {
     "name": "stdout",
     "output_type": "stream",
     "text": [
      "../scripts\n",
      "../scripts\n"
     ]
    },
    {
     "name": "stderr",
     "output_type": "stream",
     "text": [
      "2024-06-13 14:58:58,818 :: INFO :: Submitted batch job 370950\n",
      "\n",
      "2024-06-13 14:58:58,819 :: INFO :: /home/sbnb/ddalton/.bashrc: line 1: /apps/manual/Singularity/3.7.3/etc/profile: No such file or directory\n",
      "\n",
      "2024-06-13 14:58:58,821 :: INFO :: 'Every day is a new chapter in your fairy tale. 📖🌟' - Shreck\n",
      "2024-06-13 14:58:58,840 :: INFO :: Connected (version 2.0, client OpenSSH_8.0)\n",
      "2024-06-13 14:58:58,975 :: INFO :: Authentication (password) successful!\n",
      "2024-06-13 14:58:58,975 :: INFO :: Running command: cd /home/sbnb/ddalton/projects/ClusterSubmit/documentation; sbatch ../scripts/job_d357.sh ../scripts/dialogue.py 1 2 3 \n"
     ]
    },
    {
     "name": "stdout",
     "output_type": "stream",
     "text": [
      "../scripts\n",
      "../scripts\n"
     ]
    },
    {
     "name": "stderr",
     "output_type": "stream",
     "text": [
      "2024-06-13 14:58:59,091 :: INFO :: Submitted batch job 370951\n",
      "\n",
      "2024-06-13 14:58:59,091 :: INFO :: /home/sbnb/ddalton/.bashrc: line 1: /apps/manual/Singularity/3.7.3/etc/profile: No such file or directory\n",
      "\n",
      "2024-06-13 14:58:59,094 :: INFO :: 'Find strength in your inner ogre. 💪💚' - Shreck\n",
      "2024-06-13 14:58:59,115 :: INFO :: Connected (version 2.0, client OpenSSH_8.0)\n",
      "2024-06-13 14:58:59,250 :: INFO :: Authentication (password) successful!\n",
      "2024-06-13 14:58:59,251 :: INFO :: Running command: cd /home/sbnb/ddalton/projects/ClusterSubmit/documentation; sbatch ../scripts/job_5f7a.sh ../scripts/dialogue.py 1 2 3 \n"
     ]
    },
    {
     "name": "stdout",
     "output_type": "stream",
     "text": [
      "../scripts\n",
      "../scripts\n"
     ]
    },
    {
     "name": "stderr",
     "output_type": "stream",
     "text": [
      "2024-06-13 14:58:59,368 :: INFO :: Submitted batch job 370952\n",
      "\n",
      "2024-06-13 14:58:59,369 :: INFO :: /home/sbnb/ddalton/.bashrc: line 1: /apps/manual/Singularity/3.7.3/etc/profile: No such file or directory\n",
      "\n",
      "2024-06-13 14:58:59,372 :: INFO :: 'Follow your heart, no matter where it leads. 💖✨' - Shreck\n",
      "2024-06-13 14:58:59,390 :: INFO :: Connected (version 2.0, client OpenSSH_8.0)\n",
      "2024-06-13 14:58:59,524 :: INFO :: Authentication (password) successful!\n",
      "2024-06-13 14:58:59,525 :: INFO :: Running command: cd /home/sbnb/ddalton/projects/ClusterSubmit/documentation; sbatch ../scripts/job_9a04.sh ../scripts/dialogue.py 1 2 3 \n"
     ]
    },
    {
     "name": "stdout",
     "output_type": "stream",
     "text": [
      "../scripts\n",
      "../scripts\n"
     ]
    },
    {
     "name": "stderr",
     "output_type": "stream",
     "text": [
      "2024-06-13 14:58:59,643 :: INFO :: Submitted batch job 370953\n",
      "\n",
      "2024-06-13 14:58:59,643 :: INFO :: /home/sbnb/ddalton/.bashrc: line 1: /apps/manual/Singularity/3.7.3/etc/profile: No such file or directory\n",
      "\n",
      "2024-06-13 14:58:59,647 :: INFO :: 'Beauty is in the eye of the ogre. 👀💚' - Shreck\n",
      "2024-06-13 14:58:59,668 :: INFO :: Connected (version 2.0, client OpenSSH_8.0)\n",
      "2024-06-13 14:58:59,802 :: INFO :: Authentication (password) successful!\n",
      "2024-06-13 14:58:59,803 :: INFO :: Running command: cd /home/sbnb/ddalton/projects/ClusterSubmit/documentation; sbatch ../scripts/job_6e89.sh ../scripts/dialogue.py 1 2 3 \n"
     ]
    },
    {
     "name": "stdout",
     "output_type": "stream",
     "text": [
      "../scripts\n",
      "../scripts\n"
     ]
    },
    {
     "name": "stderr",
     "output_type": "stream",
     "text": [
      "2024-06-13 14:58:59,920 :: INFO :: Submitted batch job 370954\n",
      "\n",
      "2024-06-13 14:58:59,920 :: INFO :: /home/sbnb/ddalton/.bashrc: line 1: /apps/manual/Singularity/3.7.3/etc/profile: No such file or directory\n",
      "\n"
     ]
    },
    {
     "name": "stdout",
     "output_type": "stream",
     "text": [
      "Job submitted to Slurm successfully!\n"
     ]
    }
   ],
   "source": [
    "test = \"quedate que la noche sin ti duele\"\n",
    "\n",
    "for s in test[::-1]:\n",
    "    slurm_job_manager.submit_job(\n",
    "        script_py=script_path_slurm,\n",
    "        time=job_time,\n",
    "        mem=memory_slurm,\n",
    "        cpus=num_cpus_slurm,\n",
    "        array=\"1-1\",\n",
    "        ntasks=1,\n",
    "        N=s,\n",
    "        args=None,  # Replace with any script arguments if needed\n",
    "        sh_path=sh_path_slurm,\n",
    "        eo_path=\"../scripts/logs\",  # Replace with your log directory\n",
    "        image=\"/aloy/home/ddalton/singularity_images/disease_sig.simg\",  # Replace with your Singularity image\n",
    "        cc_image=False,\n",
    "        os_remove=True,\n",
    "        partition=\"sbnb_cpu_zen3\",  # Replace with your partition\n",
    "        # exclude=\"node[01-05]\"  # Replace with nodes to exclude if necessary\n",
    "    )\n",
    "\n",
    "# Print confirmation\n",
    "print(\"Job submitted to Slurm successfully!\")"
   ]
  },
  {
   "cell_type": "code",
   "execution_count": 13,
   "metadata": {},
   "outputs": [],
   "source": [
    "test = \"quedate que la noche sin ti duele\""
   ]
  },
  {
   "cell_type": "code",
   "execution_count": 15,
   "metadata": {},
   "outputs": [
    {
     "data": {
      "text/plain": [
       "33"
      ]
     },
     "execution_count": 15,
     "metadata": {},
     "output_type": "execute_result"
    }
   ],
   "source": [
    "len(test[::-1])"
   ]
  },
  {
   "cell_type": "code",
   "execution_count": 4,
   "metadata": {},
   "outputs": [
    {
     "name": "stderr",
     "output_type": "stream",
     "text": [
      "2024-06-13 14:51:38,317 :: INFO :: Connected (version 2.0, client OpenSSH_8.0)\n",
      "2024-06-13 14:51:38,454 :: INFO :: Authentication (password) successful!\n"
     ]
    }
   ],
   "source": [
    "import paramiko\n",
    "\n",
    "\n",
    "ssh = paramiko.SSHClient()\n",
    "ssh.load_system_host_keys()\n",
    "ssh.connect(\n",
    "    personal_config.slurm_config.get(\"host\"),\n",
    "    username=personal_config.slurm_config.get(\"username\"),\n",
    "    password=personal_config.slurm_config.get(\"password\"),\n",
    ")\n",
    "stdin, stdout, stderr = ssh.exec_command(\n",
    "    \"cd ../scripts/; sbatch job_1778.sh dialogue.py\"\n",
    ")\n",
    "stdin, stdout, stderr = ssh.exec_command(\"ls\")"
   ]
  },
  {
   "cell_type": "code",
   "execution_count": 5,
   "metadata": {},
   "outputs": [
    {
     "name": "stdout",
     "output_type": "stream",
     "text": [
      "ls stdout: 20221214_163825.jpg\n",
      "IT\n",
      "STDIN.e770167\n",
      "STDIN.o770167\n",
      "SignaturizerAPI\n",
      "area_52\n",
      "cc\n",
      "cc_versions\n",
      "hpc\n",
      "job-bashrc_test.04.sh.o772318\n",
      "logs\n",
      "multioutpudylan.02.py\n",
      "network.png\n",
      "nn_multilabel.binding.py.e770567\n",
      "nn_multilabel.binding.py.o770567\n",
      "nri.2018.26.pdf\n",
      "ondemand\n",
      "output_2.png\n",
      "packages\n",
      "plot_test.png\n",
      "privatemodules\n",
      "projects\n",
      "qdel.sh\n",
      "rm\n",
      "run_jupyter_cpus\n",
      "scratch_irb\n",
      "sdata201433.pdf\n",
      "signaturizer_models\n",
      "singularity_images\n",
      "srep26094.pdf\n",
      "startjup-main\n",
      "startjup-main.zip\n",
      "test.py.e772508\n",
      "test.py.o772508\n",
      "test_cc\n",
      "tests\n",
      "tm\n",
      "\n",
      "ls stderr: /home/sbnb/ddalton/.bashrc: line 1: /apps/manual/Singularity/3.7.3/etc/profile: No such file or directory\n",
      "\n"
     ]
    }
   ],
   "source": [
    "# Print the output of the 'ls' command\n",
    "print(\"ls stdout:\", stdout.read().decode())\n",
    "print(\"ls stderr:\", stderr.read().decode())"
   ]
  },
  {
   "cell_type": "code",
   "execution_count": 6,
   "metadata": {},
   "outputs": [
    {
     "data": {
      "text/plain": [
       "{'host': 'irblogin01.irbbarcelona.pcb.ub.es',\n",
       " 'username': 'ddalton',\n",
       " 'password': 'Teclado$$11'}"
      ]
     },
     "execution_count": 6,
     "metadata": {},
     "output_type": "execute_result"
    }
   ],
   "source": [
    "personal_config.slurm_config"
   ]
  },
  {
   "cell_type": "code",
   "execution_count": 7,
   "metadata": {},
   "outputs": [],
   "source": [
    "from cluster_submitter.sungrid import Sungrid\n",
    "from cluster_submitter.slurm import Slurm"
   ]
  },
  {
   "cell_type": "markdown",
   "metadata": {
    "vscode": {
     "languageId": "plaintext"
    }
   },
   "source": [
    "## SUNGRID Jobs"
   ]
  },
  {
   "cell_type": "code",
   "execution_count": null,
   "metadata": {},
   "outputs": [],
   "source": []
  }
 ],
 "metadata": {
  "kernelspec": {
   "display_name": "xgboost-env",
   "language": "python",
   "name": "python3"
  },
  "language_info": {
   "codemirror_mode": {
    "name": "ipython",
    "version": 3
   },
   "file_extension": ".py",
   "mimetype": "text/x-python",
   "name": "python",
   "nbconvert_exporter": "python",
   "pygments_lexer": "ipython3",
   "version": "3.12.3"
  }
 },
 "nbformat": 4,
 "nbformat_minor": 2
}
